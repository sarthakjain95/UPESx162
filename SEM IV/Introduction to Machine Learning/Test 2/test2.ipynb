{
  "nbformat": 4,
  "nbformat_minor": 0,
  "metadata": {
    "colab": {
      "name": "test1_12march.ipynb",
      "provenance": []
    },
    "kernelspec": {
      "name": "python3",
      "display_name": "Python 3"
    }
  },
  "cells": [
    {
      "cell_type": "code",
      "metadata": {
        "id": "w8JzpqV2j2Mv"
      },
      "source": [
        "import pandas, sklearn\n",
        "import numpy as np\n",
        "from pprint import pprint"
      ],
      "execution_count": 2,
      "outputs": []
    },
    {
      "cell_type": "markdown",
      "metadata": {
        "id": "aIQLpXdlj6aQ"
      },
      "source": [
        "# **Importing Datasets**"
      ]
    },
    {
      "cell_type": "code",
      "metadata": {
        "id": "kZOXqonukFhF"
      },
      "source": [
        "# d1 = pandas.read_csv(\"https://archive.ics.uci.edu/ml/machine-learning-databases/wine-quality/winequality-red.csv\", sep=\";\")\n",
        "d = pandas.read_csv(\"https://archive.ics.uci.edu/ml/machine-learning-databases/wine-quality/winequality-white.csv\", sep=\";\")"
      ],
      "execution_count": 3,
      "outputs": []
    },
    {
      "cell_type": "code",
      "metadata": {
        "colab": {
          "base_uri": "https://localhost:8080/"
        },
        "id": "nF78_MFekZyr",
        "outputId": "fca46c3c-122d-4c97-eb35-efb74e228e6c"
      },
      "source": [
        "print(d.head())"
      ],
      "execution_count": 4,
      "outputs": [
        {
          "output_type": "stream",
          "text": [
            "   fixed acidity  volatile acidity  citric acid  ...  sulphates  alcohol  quality\n",
            "0            7.0              0.27         0.36  ...       0.45      8.8        6\n",
            "1            6.3              0.30         0.34  ...       0.49      9.5        6\n",
            "2            8.1              0.28         0.40  ...       0.44     10.1        6\n",
            "3            7.2              0.23         0.32  ...       0.40      9.9        6\n",
            "4            7.2              0.23         0.32  ...       0.40      9.9        6\n",
            "\n",
            "[5 rows x 12 columns]\n"
          ],
          "name": "stdout"
        }
      ]
    },
    {
      "cell_type": "code",
      "metadata": {
        "colab": {
          "base_uri": "https://localhost:8080/"
        },
        "id": "WSEsEoHCkp3m",
        "outputId": "b26ac56a-379d-4881-deb2-9a11fed4356f"
      },
      "source": [
        "d.columns"
      ],
      "execution_count": 5,
      "outputs": [
        {
          "output_type": "execute_result",
          "data": {
            "text/plain": [
              "Index(['fixed acidity', 'volatile acidity', 'citric acid', 'residual sugar',\n",
              "       'chlorides', 'free sulfur dioxide', 'total sulfur dioxide', 'density',\n",
              "       'pH', 'sulphates', 'alcohol', 'quality'],\n",
              "      dtype='object')"
            ]
          },
          "metadata": {
            "tags": []
          },
          "execution_count": 5
        }
      ]
    },
    {
      "cell_type": "code",
      "metadata": {
        "colab": {
          "base_uri": "https://localhost:8080/"
        },
        "id": "H8bjlHpDoQsJ",
        "outputId": "fe8055a7-7028-464f-a4e8-7e1570f9eeff"
      },
      "source": [
        "sorted(d.iloc[:, -1].unique())"
      ],
      "execution_count": 6,
      "outputs": [
        {
          "output_type": "execute_result",
          "data": {
            "text/plain": [
              "[3, 4, 5, 6, 7, 8, 9]"
            ]
          },
          "metadata": {
            "tags": []
          },
          "execution_count": 6
        }
      ]
    },
    {
      "cell_type": "code",
      "metadata": {
        "id": "bVixzyinoXTz"
      },
      "source": [
        "x, y = d.iloc[:, :-1], d.iloc[:, -1]\n",
        "\n",
        "# Scaling\n",
        "from sklearn.preprocessing import scale\n",
        "x = scale(x)\n",
        "\n",
        "# Split\n",
        "from sklearn.model_selection import train_test_split\n",
        "x_train, x_test, y_train, y_test = train_test_split(x, y, test_size=0.30, random_state=42)"
      ],
      "execution_count": 7,
      "outputs": []
    },
    {
      "cell_type": "code",
      "metadata": {
        "colab": {
          "base_uri": "https://localhost:8080/"
        },
        "id": "CYYRvJ-ksR1u",
        "outputId": "e30b426d-2a15-43a7-8892-6d840ff6080e"
      },
      "source": [
        "print(x.shape, y.shape)\n",
        "print(x_train.shape, y_train.shape)\n",
        "print(x_test.shape, y_test.shape)"
      ],
      "execution_count": 8,
      "outputs": [
        {
          "output_type": "stream",
          "text": [
            "(4898, 11) (4898,)\n",
            "(3428, 11) (3428,)\n",
            "(1470, 11) (1470,)\n"
          ],
          "name": "stdout"
        }
      ]
    },
    {
      "cell_type": "markdown",
      "metadata": {
        "id": "GmsNa8-ysZnl"
      },
      "source": [
        "# **Testing Models**"
      ]
    },
    {
      "cell_type": "code",
      "metadata": {
        "id": "ks58ceOqtPBy"
      },
      "source": [
        "from sklearn.model_selection import cross_val_score\n",
        "from sklearn.metrics import accuracy_score\n",
        "import matplotlib.pyplot as plt"
      ],
      "execution_count": 9,
      "outputs": []
    },
    {
      "cell_type": "markdown",
      "metadata": {
        "id": "jP9z0vm2tK-b"
      },
      "source": [
        "## SVM"
      ]
    },
    {
      "cell_type": "code",
      "metadata": {
        "id": "73_SBLT7sd-M"
      },
      "source": [
        "from sklearn import svm"
      ],
      "execution_count": 10,
      "outputs": []
    },
    {
      "cell_type": "code",
      "metadata": {
        "colab": {
          "base_uri": "https://localhost:8080/",
          "height": 317
        },
        "id": "96Fa5eyszZGX",
        "outputId": "05b9a135-dfb1-48b4-c38c-ab38e6cf7dc2"
      },
      "source": [
        "model = svm.SVR(kernel='rbf', C=10)\n",
        "model.fit(x_train, y_train)\n",
        "preds = [round(f) for f in model.predict(x_test)]\n",
        "plt.scatter(range(len(x_test)), y_test, color=\"blue\")\n",
        "plt.scatter(range(len(x_test)), preds, color=\"red\")\n",
        "print(preds[:10])\n",
        "print([*y_test[:10]])\n",
        "print(f\"Correct predictions:\", sum(y_test == preds), \"of\", len(y_test) )"
      ],
      "execution_count": 11,
      "outputs": [
        {
          "output_type": "stream",
          "text": [
            "[7, 8, 7, 6, 7, 6, 5, 5, 6, 5]\n",
            "[7, 8, 8, 5, 7, 6, 5, 4, 6, 5]\n",
            "Correct predictions: 862 of 1470\n"
          ],
          "name": "stdout"
        },
        {
          "output_type": "display_data",
          "data": {
            "image/png": "[encoded data removed]",
            "text/plain": [
              "<Figure size 432x288 with 1 Axes>"
            ]
          },
          "metadata": {
            "tags": [],
            "needs_background": "light"
          }
        }
      ]
    },
    {
      "cell_type": "code",
      "metadata": {
        "colab": {
          "base_uri": "https://localhost:8080/"
        },
        "id": "IQ7zJMvtszGW",
        "outputId": "14b9498f-ab70-44f8-ac6c-205cf86fe820"
      },
      "source": [
        "svr_scores = {}\n",
        "\n",
        "# Grid Search\n",
        "for k in ('linear', 'rbf'):\n",
        "    for c in (1, 10, 20):\n",
        "        for g in ('auto', 'scale'):\n",
        "            model = svm.SVR(kernel=k, C=c, gamma=g)\n",
        "            model.fit(x_train, y_train)\n",
        "            preds = model.predict(x_test)\n",
        "            preds = [int(x) for x in preds]\n",
        "            score = accuracy_score(y_test, preds)\n",
        "            avg_score = score.mean()\n",
        "            svr_scores[f\"{k}_{c}_{g}\"] = avg_score\n",
        "            print(f\"{k}_{c}_{g} gave {score}\") \n",
        "\n",
        "print()\n",
        "pprint(svr_scores)"
      ],
      "execution_count": 12,
      "outputs": [
        {
          "output_type": "stream",
          "text": [
            "linear_1_auto gave 0.4496598639455782\n",
            "linear_1_scale gave 0.4496598639455782\n",
            "linear_10_auto gave 0.45102040816326533\n",
            "linear_10_scale gave 0.45102040816326533\n",
            "linear_20_auto gave 0.45034013605442175\n",
            "linear_20_scale gave 0.45034013605442175\n",
            "rbf_1_auto gave 0.4346938775510204\n",
            "rbf_1_scale gave 0.43605442176870746\n",
            "rbf_10_auto gave 0.4170068027210884\n",
            "rbf_10_scale gave 0.4170068027210884\n",
            "rbf_20_auto gave 0.41020408163265304\n",
            "rbf_20_scale gave 0.4108843537414966\n",
            "\n",
            "{'linear_10_auto': 0.45102040816326533,\n",
            " 'linear_10_scale': 0.45102040816326533,\n",
            " 'linear_1_auto': 0.4496598639455782,\n",
            " 'linear_1_scale': 0.4496598639455782,\n",
            " 'linear_20_auto': 0.45034013605442175,\n",
            " 'linear_20_scale': 0.45034013605442175,\n",
            " 'rbf_10_auto': 0.4170068027210884,\n",
            " 'rbf_10_scale': 0.4170068027210884,\n",
            " 'rbf_1_auto': 0.4346938775510204,\n",
            " 'rbf_1_scale': 0.43605442176870746,\n",
            " 'rbf_20_auto': 0.41020408163265304,\n",
            " 'rbf_20_scale': 0.4108843537414966}\n"
          ],
          "name": "stdout"
        }
      ]
    },
    {
      "cell_type": "code",
      "metadata": {
        "colab": {
          "base_uri": "https://localhost:8080/"
        },
        "id": "JtAmZQvOxiSB",
        "outputId": "890fdb58-63d1-428c-8bc4-701f6a3ec748"
      },
      "source": [
        "svc_scores = {}\n",
        "\n",
        "# Grid Search\n",
        "for k in ('linear', 'rbf'):\n",
        "    for c in (1, 10, 20):\n",
        "        for g in ('auto', 'scale'):\n",
        "            model = svm.SVC(kernel=k, C=c, gamma=g)\n",
        "            model.fit(x_train, y_train)\n",
        "            preds = model.predict(x_test)\n",
        "            preds = [int(x) for x in preds]\n",
        "            score = accuracy_score(y_test, preds)\n",
        "            avg_score = score.mean()\n",
        "            svc_scores[f\"{k}_{c}_{g}\"] = avg_score \n",
        "            print(f\"{k}_{c}_{g} gave {score}\") \n",
        "\n",
        "print()\n",
        "pprint(svc_scores)"
      ],
      "execution_count": 13,
      "outputs": [
        {
          "output_type": "stream",
          "text": [
            "linear_1_auto gave 0.527891156462585\n",
            "linear_1_scale gave 0.527891156462585\n",
            "linear_10_auto gave 0.5258503401360545\n",
            "linear_10_scale gave 0.5258503401360545\n",
            "linear_20_auto gave 0.5258503401360545\n",
            "linear_20_scale gave 0.5258503401360545\n",
            "rbf_1_auto gave 0.5653061224489796\n",
            "rbf_1_scale gave 0.5653061224489796\n",
            "rbf_10_auto gave 0.580952380952381\n",
            "rbf_10_scale gave 0.580952380952381\n",
            "rbf_20_auto gave 0.591156462585034\n",
            "rbf_20_scale gave 0.591156462585034\n",
            "\n",
            "{'linear_10_auto': 0.5258503401360545,\n",
            " 'linear_10_scale': 0.5258503401360545,\n",
            " 'linear_1_auto': 0.527891156462585,\n",
            " 'linear_1_scale': 0.527891156462585,\n",
            " 'linear_20_auto': 0.5258503401360545,\n",
            " 'linear_20_scale': 0.5258503401360545,\n",
            " 'rbf_10_auto': 0.580952380952381,\n",
            " 'rbf_10_scale': 0.580952380952381,\n",
            " 'rbf_1_auto': 0.5653061224489796,\n",
            " 'rbf_1_scale': 0.5653061224489796,\n",
            " 'rbf_20_auto': 0.591156462585034,\n",
            " 'rbf_20_scale': 0.591156462585034}\n"
          ],
          "name": "stdout"
        }
      ]
    },
    {
      "cell_type": "markdown",
      "metadata": {
        "id": "mjVl934NGNzE"
      },
      "source": [
        "## Decision Tree"
      ]
    },
    {
      "cell_type": "code",
      "metadata": {
        "id": "aBUmEsfOGWyj"
      },
      "source": [
        "from sklearn.tree import DecisionTreeClassifier, DecisionTreeRegressor"
      ],
      "execution_count": 14,
      "outputs": []
    },
    {
      "cell_type": "code",
      "metadata": {
        "colab": {
          "base_uri": "https://localhost:8080/"
        },
        "id": "29HKwOWrGmX3",
        "outputId": "d5fb5439-1ff9-4f2c-f0ed-59c881cb683d"
      },
      "source": [
        "dtr_scores = {}\n",
        "\n",
        "# Grid Search\n",
        "for crit in ('mse', 'mae'):\n",
        "    for d in (None, 3, 8):\n",
        "        for sp in ('best', 'random'):\n",
        "            model = DecisionTreeRegressor(criterion=crit, max_depth=d, splitter=sp)\n",
        "            model.fit(x_train, y_train)\n",
        "            preds = model.predict(x_test)\n",
        "            preds = [int(x) for x in preds]\n",
        "            score = accuracy_score(y_test, preds)\n",
        "            avg_score = score.mean()\n",
        "            dtr_scores[f\"{crit}_{d}_{sp}\"] = avg_score \n",
        "\n",
        "print()\n",
        "pprint(dtr_scores)"
      ],
      "execution_count": 15,
      "outputs": [
        {
          "output_type": "stream",
          "text": [
            "\n",
            "{'mae_3_best': 0.5142857142857142,\n",
            " 'mae_3_random': 0.5068027210884354,\n",
            " 'mae_8_best': 0.5333333333333333,\n",
            " 'mae_8_random': 0.5251700680272109,\n",
            " 'mae_None_best': 0.5666666666666667,\n",
            " 'mae_None_random': 0.5986394557823129,\n",
            " 'mse_3_best': 0.39659863945578233,\n",
            " 'mse_3_random': 0.3693877551020408,\n",
            " 'mse_8_best': 0.4496598639455782,\n",
            " 'mse_8_random': 0.4312925170068027,\n",
            " 'mse_None_best': 0.5782312925170068,\n",
            " 'mse_None_random': 0.5863945578231292}\n"
          ],
          "name": "stdout"
        }
      ]
    },
    {
      "cell_type": "code",
      "metadata": {
        "colab": {
          "base_uri": "https://localhost:8080/"
        },
        "id": "7D8Pqtu-IG40",
        "outputId": "bc9c9f87-7970-4cbf-aff2-2df7b13eb554"
      },
      "source": [
        "dtc_scores = {}\n",
        "\n",
        "# Grid Search\n",
        "for crit in ('gini', 'entropy'):\n",
        "    for d in (None, 3, 8):\n",
        "        for sp in ('best', 'random'):\n",
        "            model = DecisionTreeClassifier(criterion=crit, max_depth=d, splitter=sp)\n",
        "            model.fit(x_train, y_train)\n",
        "            preds = model.predict(x_test)\n",
        "            preds = [int(x) for x in preds]\n",
        "            score = accuracy_score(y_test, preds)\n",
        "            avg_score = score.mean()\n",
        "            dtc_scores[f\"{crit}_{d}_{sp}\"] = avg_score \n",
        "\n",
        "print()\n",
        "pprint(dtc_scores)"
      ],
      "execution_count": 16,
      "outputs": [
        {
          "output_type": "stream",
          "text": [
            "\n",
            "{'entropy_3_best': 0.5027210884353741,\n",
            " 'entropy_3_random': 0.454421768707483,\n",
            " 'entropy_8_best': 0.5421768707482993,\n",
            " 'entropy_8_random': 0.507482993197279,\n",
            " 'entropy_None_best': 0.5972789115646259,\n",
            " 'entropy_None_random': 0.5768707482993197,\n",
            " 'gini_3_best': 0.5251700680272109,\n",
            " 'gini_3_random': 0.49047619047619045,\n",
            " 'gini_8_best': 0.5183673469387755,\n",
            " 'gini_8_random': 0.5210884353741496,\n",
            " 'gini_None_best': 0.582312925170068,\n",
            " 'gini_None_random': 0.591156462585034}\n"
          ],
          "name": "stdout"
        }
      ]
    },
    {
      "cell_type": "markdown",
      "metadata": {
        "id": "4s9pd8DsJbXg"
      },
      "source": [
        "## Polynomial Regressor\n"
      ]
    },
    {
      "cell_type": "code",
      "metadata": {
        "id": "MdjcXApRJs6N"
      },
      "source": [
        "from sklearn.preprocessing import PolynomialFeatures\n",
        "from sklearn.pipeline import make_pipeline\n",
        "from sklearn.linear_model import LinearRegression"
      ],
      "execution_count": 17,
      "outputs": []
    },
    {
      "cell_type": "markdown",
      "metadata": {
        "id": "gFihKvywLGi_"
      },
      "source": [
        "> This one takes a lot of time!"
      ]
    },
    {
      "cell_type": "code",
      "metadata": {
        "colab": {
          "base_uri": "https://localhost:8080/"
        },
        "id": "NXzAw81IIXlg",
        "outputId": "fde47b3e-7221-4303-c5a3-86838c619101"
      },
      "source": [
        "pol_scores = {}\n",
        "\n",
        "# Grid Search\n",
        "for deg in range(1, 9):\n",
        "    model = make_pipeline(PolynomialFeatures(deg), LinearRegression())\n",
        "    model.fit(x_train, y_train)\n",
        "    preds = model.predict(x_test)\n",
        "    preds = [int(x) for x in preds]\n",
        "    score = accuracy_score(y_test, preds)\n",
        "    avg_score = score.mean()\n",
        "    pol_scores[deg] = avg_score \n",
        "    print(f\"{deg} gave {score}\")\n",
        "\n",
        "print()\n",
        "pprint(pol_scores)"
      ],
      "execution_count": 18,
      "outputs": [
        {
          "output_type": "stream",
          "text": [
            "1 gave 0.45170068027210886\n",
            "2 gave 0.4496598639455782\n",
            "3 gave 0.42857142857142855\n",
            "4 gave 0.36054421768707484\n",
            "5 gave 0.2510204081632653\n",
            "6 gave 0.26326530612244897\n",
            "7 gave 0.23945578231292516\n",
            "8 gave 0.23265306122448978\n",
            "\n",
            "{1: 0.45170068027210886,\n",
            " 2: 0.4496598639455782,\n",
            " 3: 0.42857142857142855,\n",
            " 4: 0.36054421768707484,\n",
            " 5: 0.2510204081632653,\n",
            " 6: 0.26326530612244897,\n",
            " 7: 0.23945578231292516,\n",
            " 8: 0.23265306122448978}\n"
          ],
          "name": "stdout"
        }
      ]
    },
    {
      "cell_type": "markdown",
      "metadata": {
        "id": "pzaLEpBTNU6O"
      },
      "source": [
        "## Kernel Ridge Model"
      ]
    },
    {
      "cell_type": "code",
      "metadata": {
        "id": "WOyu8cU7NZpG"
      },
      "source": [
        "from sklearn.kernel_ridge import KernelRidge"
      ],
      "execution_count": 19,
      "outputs": []
    },
    {
      "cell_type": "code",
      "metadata": {
        "colab": {
          "base_uri": "https://localhost:8080/"
        },
        "id": "1E4BskT_J7xV",
        "outputId": "4fd306ee-aff3-4497-e23b-11cddea0c719"
      },
      "source": [
        "kr_scores = {}\n",
        "\n",
        "# Grid Search\n",
        "for k in  ('poly', 'rbf'):\n",
        "    for a in np.logspace(-2, 2, 5):\n",
        "        for g in np.logspace(-2, 2, 5):\n",
        "            model = KernelRidge(alpha=a, gamma=g, kernel=k)\n",
        "            model.fit(x_train, y_train)\n",
        "            preds = model.predict(x_test)\n",
        "            preds = [int(x) for x in preds]\n",
        "            score = accuracy_score(y_test, preds)\n",
        "            avg_score = score.mean()\n",
        "            kr_scores[f\"{k}_{a}_{g}\"] = avg_score \n",
        "            print(f\"{k}_{a}_{g} scored {score}\")\n",
        "\n",
        "print()\n",
        "pprint(kr_scores)"
      ],
      "execution_count": 20,
      "outputs": [
        {
          "output_type": "stream",
          "text": [
            "poly_0.01_0.01 scored 0.44829931972789117\n",
            "poly_0.01_0.1 scored 0.43673469387755104\n",
            "poly_0.01_1.0 scored 0.42857142857142855\n",
            "poly_0.01_10.0 scored 0.42857142857142855\n"
          ],
          "name": "stdout"
        },
        {
          "output_type": "stream",
          "text": [
            "/usr/local/lib/python3.7/dist-packages/sklearn/linear_model/_ridge.py:188: LinAlgWarning: Ill-conditioned matrix (rcond=4.27837e-18): result may not be accurate.\n",
            "  overwrite_a=False)\n"
          ],
          "name": "stderr"
        },
        {
          "output_type": "stream",
          "text": [
            "poly_0.01_100.0 scored 0.42857142857142855\n",
            "poly_0.1_0.01 scored 0.4414965986394558\n",
            "poly_0.1_0.1 scored 0.43945578231292515\n",
            "poly_0.1_1.0 scored 0.4306122448979592\n",
            "poly_0.1_10.0 scored 0.42925170068027213\n"
          ],
          "name": "stdout"
        },
        {
          "output_type": "stream",
          "text": [
            "/usr/local/lib/python3.7/dist-packages/sklearn/linear_model/_ridge.py:188: LinAlgWarning: Ill-conditioned matrix (rcond=4.27843e-17): result may not be accurate.\n",
            "  overwrite_a=False)\n"
          ],
          "name": "stderr"
        },
        {
          "output_type": "stream",
          "text": [
            "poly_0.1_100.0 scored 0.42925170068027213\n",
            "poly_1.0_0.01 scored 0.43605442176870746\n",
            "poly_1.0_0.1 scored 0.454421768707483\n",
            "poly_1.0_1.0 scored 0.4306122448979592\n",
            "poly_1.0_10.0 scored 0.42993197278911566\n",
            "poly_1.0_100.0 scored 0.42993197278911566\n",
            "poly_10.0_0.01 scored 0.43741496598639457\n",
            "poly_10.0_0.1 scored 0.43537414965986393\n",
            "poly_10.0_1.0 scored 0.4231292517006803\n",
            "poly_10.0_10.0 scored 0.42108843537414964\n",
            "poly_10.0_100.0 scored 0.42108843537414964\n",
            "poly_100.0_0.01 scored 0.34965986394557824\n",
            "poly_100.0_0.1 scored 0.37755102040816324\n",
            "poly_100.0_1.0 scored 0.32789115646258504\n",
            "poly_100.0_10.0 scored 0.3231292517006803\n",
            "poly_100.0_100.0 scored 0.3231292517006803\n",
            "rbf_0.01_0.01 scored 0.44829931972789117\n",
            "rbf_0.01_0.1 scored 0.4095238095238095\n",
            "rbf_0.01_1.0 scored 0.13537414965986394\n",
            "rbf_0.01_10.0 scored 0.0\n",
            "rbf_0.01_100.0 scored 0.0\n",
            "rbf_0.1_0.01 scored 0.4435374149659864\n",
            "rbf_0.1_0.1 scored 0.42108843537414964\n",
            "rbf_0.1_1.0 scored 0.12653061224489795\n",
            "rbf_0.1_10.0 scored 0.0\n",
            "rbf_0.1_100.0 scored 0.0\n",
            "rbf_1.0_0.01 scored 0.4387755102040816\n",
            "rbf_1.0_0.1 scored 0.42653061224489797\n",
            "rbf_1.0_1.0 scored 0.06802721088435375\n",
            "rbf_1.0_10.0 scored 0.0\n",
            "rbf_1.0_100.0 scored 0.0\n",
            "rbf_10.0_0.01 scored 0.44421768707482995\n",
            "rbf_10.0_0.1 scored 0.3360544217687075\n",
            "rbf_10.0_1.0 scored 0.006122448979591836\n",
            "rbf_10.0_10.0 scored 0.0\n",
            "rbf_10.0_100.0 scored 0.0\n",
            "rbf_100.0_0.01 scored 0.3217687074829932\n",
            "rbf_100.0_0.1 scored 0.1653061224489796\n",
            "rbf_100.0_1.0 scored 0.0\n",
            "rbf_100.0_10.0 scored 0.0\n",
            "rbf_100.0_100.0 scored 0.0\n",
            "\n",
            "{'poly_0.01_0.01': 0.44829931972789117,\n",
            " 'poly_0.01_0.1': 0.43673469387755104,\n",
            " 'poly_0.01_1.0': 0.42857142857142855,\n",
            " 'poly_0.01_10.0': 0.42857142857142855,\n",
            " 'poly_0.01_100.0': 0.42857142857142855,\n",
            " 'poly_0.1_0.01': 0.4414965986394558,\n",
            " 'poly_0.1_0.1': 0.43945578231292515,\n",
            " 'poly_0.1_1.0': 0.4306122448979592,\n",
            " 'poly_0.1_10.0': 0.42925170068027213,\n",
            " 'poly_0.1_100.0': 0.42925170068027213,\n",
            " 'poly_1.0_0.01': 0.43605442176870746,\n",
            " 'poly_1.0_0.1': 0.454421768707483,\n",
            " 'poly_1.0_1.0': 0.4306122448979592,\n",
            " 'poly_1.0_10.0': 0.42993197278911566,\n",
            " 'poly_1.0_100.0': 0.42993197278911566,\n",
            " 'poly_10.0_0.01': 0.43741496598639457,\n",
            " 'poly_10.0_0.1': 0.43537414965986393,\n",
            " 'poly_10.0_1.0': 0.4231292517006803,\n",
            " 'poly_10.0_10.0': 0.42108843537414964,\n",
            " 'poly_10.0_100.0': 0.42108843537414964,\n",
            " 'poly_100.0_0.01': 0.34965986394557824,\n",
            " 'poly_100.0_0.1': 0.37755102040816324,\n",
            " 'poly_100.0_1.0': 0.32789115646258504,\n",
            " 'poly_100.0_10.0': 0.3231292517006803,\n",
            " 'poly_100.0_100.0': 0.3231292517006803,\n",
            " 'rbf_0.01_0.01': 0.44829931972789117,\n",
            " 'rbf_0.01_0.1': 0.4095238095238095,\n",
            " 'rbf_0.01_1.0': 0.13537414965986394,\n",
            " 'rbf_0.01_10.0': 0.0,\n",
            " 'rbf_0.01_100.0': 0.0,\n",
            " 'rbf_0.1_0.01': 0.4435374149659864,\n",
            " 'rbf_0.1_0.1': 0.42108843537414964,\n",
            " 'rbf_0.1_1.0': 0.12653061224489795,\n",
            " 'rbf_0.1_10.0': 0.0,\n",
            " 'rbf_0.1_100.0': 0.0,\n",
            " 'rbf_1.0_0.01': 0.4387755102040816,\n",
            " 'rbf_1.0_0.1': 0.42653061224489797,\n",
            " 'rbf_1.0_1.0': 0.06802721088435375,\n",
            " 'rbf_1.0_10.0': 0.0,\n",
            " 'rbf_1.0_100.0': 0.0,\n",
            " 'rbf_10.0_0.01': 0.44421768707482995,\n",
            " 'rbf_10.0_0.1': 0.3360544217687075,\n",
            " 'rbf_10.0_1.0': 0.006122448979591836,\n",
            " 'rbf_10.0_10.0': 0.0,\n",
            " 'rbf_10.0_100.0': 0.0,\n",
            " 'rbf_100.0_0.01': 0.3217687074829932,\n",
            " 'rbf_100.0_0.1': 0.1653061224489796,\n",
            " 'rbf_100.0_1.0': 0.0,\n",
            " 'rbf_100.0_10.0': 0.0,\n",
            " 'rbf_100.0_100.0': 0.0}\n"
          ],
          "name": "stdout"
        }
      ]
    },
    {
      "cell_type": "markdown",
      "metadata": {
        "id": "C0HY2eJoQ9UM"
      },
      "source": [
        "# **Getting the best Model and Parameters**"
      ]
    },
    {
      "cell_type": "code",
      "metadata": {
        "colab": {
          "base_uri": "https://localhost:8080/"
        },
        "id": "YnplYMN4Oa1C",
        "outputId": "29fbcb5f-0373-4af4-8aab-ab024cd20d20"
      },
      "source": [
        "models = {\n",
        "    \"SupportVectorMachine Regressor\": svr_scores,\n",
        "    \"SupportVectorMachine Classifier\": svc_scores,\n",
        "    \"DecisionTree Regressor\": dtr_scores,\n",
        "    \"DecisionTree Classifier\": dtc_scores,\n",
        "    \"Polynomial Regressor\": pol_scores,\n",
        "    \"KernelRidge Regressor\" : kr_scores\n",
        "}\n",
        "\n",
        "best_model = \"unset\"\n",
        "optimal_parameters = \"unset\"\n",
        "max_accuracy = 0\n",
        "\n",
        "for mod in models:\n",
        "\n",
        "    mx_acc = max(models[mod].values())\n",
        "\n",
        "    if mx_acc > max_accuracy:\n",
        "        best_model = mod\n",
        "        max_accuracy = mx_acc\n",
        "\n",
        "        for param in models[mod]:\n",
        "            if models[mod][param] == mx_acc:\n",
        "                optimal_parameters = param \n",
        "                break\n",
        "\n",
        "\n",
        "print(f\"Best model is {best_model}\")\n",
        "print(f\"Optimal Parameters: {optimal_parameters}\")\n",
        "ma = max_accuracy*100 \n",
        "print(f\"Max Accuracy: {ma:.2f}%\")\n"
      ],
      "execution_count": 21,
      "outputs": [
        {
          "output_type": "stream",
          "text": [
            "Best model is DecisionTree Regressor\n",
            "Optimal Parameters: mae_None_random\n",
            "Max Accuracy: 59.86%\n"
          ],
          "name": "stdout"
        }
      ]
    },
    {
      "cell_type": "code",
      "metadata": {
        "id": "BSDepiz7Sc-A"
      },
      "source": [
        "# If we run the first several models with different random states, the Best model can actually change.\n",
        "# But the max accuracy always stays at about ~59.8%"
      ],
      "execution_count": null,
      "outputs": []
    }
  ]
}