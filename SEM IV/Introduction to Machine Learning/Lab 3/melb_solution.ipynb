{
  "nbformat": 4,
  "nbformat_minor": 0,
  "metadata": {
    "colab": {
      "name": "melb_solution.ipynb",
      "provenance": []
    },
    "kernelspec": {
      "name": "python3",
      "display_name": "Python 3"
    },
    "language_info": {
      "name": "python"
    }
  },
  "cells": [
    {
      "cell_type": "markdown",
      "metadata": {
        "id": "tA-vnGr40Uwd"
      },
      "source": [
        "# Init"
      ]
    },
    {
      "cell_type": "code",
      "metadata": {
        "id": "Wwp58aUUOWSi"
      },
      "source": [
        "import numpy as np\n",
        "import pandas as pd \n",
        "from io import StringIO\n",
        "import matplotlib.pyplot as plt\n",
        "from pprint import pprint"
      ],
      "execution_count": 1,
      "outputs": []
    },
    {
      "cell_type": "code",
      "metadata": {
        "colab": {
          "resources": {
            "http://localhost:8080/nbextensions/google.colab/files.js": {
              "data": "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",
              "ok": true,
              "headers": [
                [
                  "content-type",
                  "application/javascript"
                ]
              ],
              "status": 200,
              "status_text": "OK"
            }
          },
          "base_uri": "https://localhost:8080/",
          "height": 102
        },
        "id": "2eX51I-QPCTe",
        "outputId": "ce39c4ec-0be9-4b3f-f53b-ea63896b7c29"
      },
      "source": [
        "from google.colab import files\n",
        "\n",
        "uploaded = files.upload()\n",
        "\n",
        "for fn in uploaded.keys():\n",
        "  print('User uploaded file \"{name}\" with length {length} bytes'.format(\n",
        "      name=fn, length=len(uploaded[fn])))"
      ],
      "execution_count": 2,
      "outputs": [
        {
          "output_type": "display_data",
          "data": {
            "text/html": [
              "\n",
              "     <input type=\"file\" id=\"files-eb2dc49b-495b-45c1-8878-b6231e58599d\" name=\"files[]\" multiple disabled\n",
              "        style=\"border:none\" />\n",
              "     <output id=\"result-eb2dc49b-495b-45c1-8878-b6231e58599d\">\n",
              "      Upload widget is only available when the cell has been executed in the\n",
              "      current browser session. Please rerun this cell to enable.\n",
              "      </output>\n",
              "      <script src=\"/nbextensions/google.colab/files.js\"></script> "
            ],
            "text/plain": [
              "<IPython.core.display.HTML object>"
            ]
          },
          "metadata": {
            "tags": []
          }
        },
        {
          "output_type": "stream",
          "text": [
            "Saving melb_data.csv to melb_data (7).csv\n",
            "User uploaded file \"melb_data.csv\" with length 2091239 bytes\n"
          ],
          "name": "stdout"
        }
      ]
    },
    {
      "cell_type": "code",
      "metadata": {
        "id": "kZjxtDxlPT9o"
      },
      "source": [
        "data = pd.read_csv(StringIO(uploaded[\"melb_data.csv\"].decode('utf-8')))"
      ],
      "execution_count": 3,
      "outputs": []
    },
    {
      "cell_type": "code",
      "metadata": {
        "colab": {
          "base_uri": "https://localhost:8080/",
          "height": 348
        },
        "id": "qGHFCw8sRW3t",
        "outputId": "b984f232-ba99-4ff8-b7b7-b36cef8a00e2"
      },
      "source": [
        "data.head()"
      ],
      "execution_count": 4,
      "outputs": [
        {
          "output_type": "execute_result",
          "data": {
            "text/html": [
              "<div>\n",
              "<style scoped>\n",
              "    .dataframe tbody tr th:only-of-type {\n",
              "        vertical-align: middle;\n",
              "    }\n",
              "\n",
              "    .dataframe tbody tr th {\n",
              "        vertical-align: top;\n",
              "    }\n",
              "\n",
              "    .dataframe thead th {\n",
              "        text-align: right;\n",
              "    }\n",
              "</style>\n",
              "<table border=\"1\" class=\"dataframe\">\n",
              "  <thead>\n",
              "    <tr style=\"text-align: right;\">\n",
              "      <th></th>\n",
              "      <th>Suburb</th>\n",
              "      <th>Address</th>\n",
              "      <th>Rooms</th>\n",
              "      <th>Type</th>\n",
              "      <th>Price</th>\n",
              "      <th>Method</th>\n",
              "      <th>SellerG</th>\n",
              "      <th>Date</th>\n",
              "      <th>Distance</th>\n",
              "      <th>Postcode</th>\n",
              "      <th>Bedroom2</th>\n",
              "      <th>Bathroom</th>\n",
              "      <th>Car</th>\n",
              "      <th>Landsize</th>\n",
              "      <th>BuildingArea</th>\n",
              "      <th>YearBuilt</th>\n",
              "      <th>CouncilArea</th>\n",
              "      <th>Lattitude</th>\n",
              "      <th>Longtitude</th>\n",
              "      <th>Regionname</th>\n",
              "      <th>Propertycount</th>\n",
              "    </tr>\n",
              "  </thead>\n",
              "  <tbody>\n",
              "    <tr>\n",
              "      <th>0</th>\n",
              "      <td>Abbotsford</td>\n",
              "      <td>85 Turner St</td>\n",
              "      <td>2</td>\n",
              "      <td>h</td>\n",
              "      <td>1480000.0</td>\n",
              "      <td>S</td>\n",
              "      <td>Biggin</td>\n",
              "      <td>3/12/2016</td>\n",
              "      <td>2.5</td>\n",
              "      <td>3067.0</td>\n",
              "      <td>2.0</td>\n",
              "      <td>1.0</td>\n",
              "      <td>1.0</td>\n",
              "      <td>202.0</td>\n",
              "      <td>NaN</td>\n",
              "      <td>NaN</td>\n",
              "      <td>Yarra</td>\n",
              "      <td>-37.7996</td>\n",
              "      <td>144.9984</td>\n",
              "      <td>Northern Metropolitan</td>\n",
              "      <td>4019.0</td>\n",
              "    </tr>\n",
              "    <tr>\n",
              "      <th>1</th>\n",
              "      <td>Abbotsford</td>\n",
              "      <td>25 Bloomburg St</td>\n",
              "      <td>2</td>\n",
              "      <td>h</td>\n",
              "      <td>1035000.0</td>\n",
              "      <td>S</td>\n",
              "      <td>Biggin</td>\n",
              "      <td>4/02/2016</td>\n",
              "      <td>2.5</td>\n",
              "      <td>3067.0</td>\n",
              "      <td>2.0</td>\n",
              "      <td>1.0</td>\n",
              "      <td>0.0</td>\n",
              "      <td>156.0</td>\n",
              "      <td>79.0</td>\n",
              "      <td>1900.0</td>\n",
              "      <td>Yarra</td>\n",
              "      <td>-37.8079</td>\n",
              "      <td>144.9934</td>\n",
              "      <td>Northern Metropolitan</td>\n",
              "      <td>4019.0</td>\n",
              "    </tr>\n",
              "    <tr>\n",
              "      <th>2</th>\n",
              "      <td>Abbotsford</td>\n",
              "      <td>5 Charles St</td>\n",
              "      <td>3</td>\n",
              "      <td>h</td>\n",
              "      <td>1465000.0</td>\n",
              "      <td>SP</td>\n",
              "      <td>Biggin</td>\n",
              "      <td>4/03/2017</td>\n",
              "      <td>2.5</td>\n",
              "      <td>3067.0</td>\n",
              "      <td>3.0</td>\n",
              "      <td>2.0</td>\n",
              "      <td>0.0</td>\n",
              "      <td>134.0</td>\n",
              "      <td>150.0</td>\n",
              "      <td>1900.0</td>\n",
              "      <td>Yarra</td>\n",
              "      <td>-37.8093</td>\n",
              "      <td>144.9944</td>\n",
              "      <td>Northern Metropolitan</td>\n",
              "      <td>4019.0</td>\n",
              "    </tr>\n",
              "    <tr>\n",
              "      <th>3</th>\n",
              "      <td>Abbotsford</td>\n",
              "      <td>40 Federation La</td>\n",
              "      <td>3</td>\n",
              "      <td>h</td>\n",
              "      <td>850000.0</td>\n",
              "      <td>PI</td>\n",
              "      <td>Biggin</td>\n",
              "      <td>4/03/2017</td>\n",
              "      <td>2.5</td>\n",
              "      <td>3067.0</td>\n",
              "      <td>3.0</td>\n",
              "      <td>2.0</td>\n",
              "      <td>1.0</td>\n",
              "      <td>94.0</td>\n",
              "      <td>NaN</td>\n",
              "      <td>NaN</td>\n",
              "      <td>Yarra</td>\n",
              "      <td>-37.7969</td>\n",
              "      <td>144.9969</td>\n",
              "      <td>Northern Metropolitan</td>\n",
              "      <td>4019.0</td>\n",
              "    </tr>\n",
              "    <tr>\n",
              "      <th>4</th>\n",
              "      <td>Abbotsford</td>\n",
              "      <td>55a Park St</td>\n",
              "      <td>4</td>\n",
              "      <td>h</td>\n",
              "      <td>1600000.0</td>\n",
              "      <td>VB</td>\n",
              "      <td>Nelson</td>\n",
              "      <td>4/06/2016</td>\n",
              "      <td>2.5</td>\n",
              "      <td>3067.0</td>\n",
              "      <td>3.0</td>\n",
              "      <td>1.0</td>\n",
              "      <td>2.0</td>\n",
              "      <td>120.0</td>\n",
              "      <td>142.0</td>\n",
              "      <td>2014.0</td>\n",
              "      <td>Yarra</td>\n",
              "      <td>-37.8072</td>\n",
              "      <td>144.9941</td>\n",
              "      <td>Northern Metropolitan</td>\n",
              "      <td>4019.0</td>\n",
              "    </tr>\n",
              "  </tbody>\n",
              "</table>\n",
              "</div>"
            ],
            "text/plain": [
              "       Suburb           Address  ...             Regionname Propertycount\n",
              "0  Abbotsford      85 Turner St  ...  Northern Metropolitan        4019.0\n",
              "1  Abbotsford   25 Bloomburg St  ...  Northern Metropolitan        4019.0\n",
              "2  Abbotsford      5 Charles St  ...  Northern Metropolitan        4019.0\n",
              "3  Abbotsford  40 Federation La  ...  Northern Metropolitan        4019.0\n",
              "4  Abbotsford       55a Park St  ...  Northern Metropolitan        4019.0\n",
              "\n",
              "[5 rows x 21 columns]"
            ]
          },
          "metadata": {
            "tags": []
          },
          "execution_count": 4
        }
      ]
    },
    {
      "cell_type": "code",
      "metadata": {
        "colab": {
          "base_uri": "https://localhost:8080/"
        },
        "id": "Nim85HHWSOQU",
        "outputId": "4542492d-2b37-4b9c-e4f7-1dd9964c15a3"
      },
      "source": [
        "data.columns"
      ],
      "execution_count": 5,
      "outputs": [
        {
          "output_type": "execute_result",
          "data": {
            "text/plain": [
              "Index(['Suburb', 'Address', 'Rooms', 'Type', 'Price', 'Method', 'SellerG',\n",
              "       'Date', 'Distance', 'Postcode', 'Bedroom2', 'Bathroom', 'Car',\n",
              "       'Landsize', 'BuildingArea', 'YearBuilt', 'CouncilArea', 'Lattitude',\n",
              "       'Longtitude', 'Regionname', 'Propertycount'],\n",
              "      dtype='object')"
            ]
          },
          "metadata": {
            "tags": []
          },
          "execution_count": 5
        }
      ]
    },
    {
      "cell_type": "code",
      "metadata": {
        "colab": {
          "base_uri": "https://localhost:8080/"
        },
        "id": "vfldHs2lh1Wc",
        "outputId": "3d962635-243a-4da6-b50b-da29e37cad22"
      },
      "source": [
        "data.isna().any()"
      ],
      "execution_count": 6,
      "outputs": [
        {
          "output_type": "execute_result",
          "data": {
            "text/plain": [
              "Suburb           False\n",
              "Address          False\n",
              "Rooms            False\n",
              "Type             False\n",
              "Price            False\n",
              "Method           False\n",
              "SellerG          False\n",
              "Date             False\n",
              "Distance         False\n",
              "Postcode         False\n",
              "Bedroom2         False\n",
              "Bathroom         False\n",
              "Car               True\n",
              "Landsize         False\n",
              "BuildingArea      True\n",
              "YearBuilt         True\n",
              "CouncilArea       True\n",
              "Lattitude        False\n",
              "Longtitude       False\n",
              "Regionname       False\n",
              "Propertycount    False\n",
              "dtype: bool"
            ]
          },
          "metadata": {
            "tags": []
          },
          "execution_count": 6
        }
      ]
    },
    {
      "cell_type": "markdown",
      "metadata": {
        "id": "l61KkXj3STns"
      },
      "source": [
        "# Encoding"
      ]
    },
    {
      "cell_type": "code",
      "metadata": {
        "id": "2hpZju-3SVAc"
      },
      "source": [
        "from sklearn.preprocessing import LabelEncoder\n",
        "encoder = LabelEncoder()\n",
        "\n",
        "def norm(data):\n",
        "    data = np.array(data)\n",
        "    normalized = (data - min(data)) / (max(data) - min(data))\n",
        "    return normalized\n",
        "\n",
        "def encode_by_frequency(data):\n",
        "    n = len(data)\n",
        "    frequency_map = {val:0 for val in set(data)}\n",
        "    for val in data:\n",
        "        frequency_map[val] += 1\n",
        "    for k in frequency_map.keys():\n",
        "        frequency_map[k] /= n \n",
        "    encoded_data = [*data]\n",
        "    for i in range(n):\n",
        "        encoded_data[i] = frequency_map[encoded_data[i]]/n\n",
        "    return norm(encoded_data)"
      ],
      "execution_count": 7,
      "outputs": []
    },
    {
      "cell_type": "code",
      "metadata": {
        "colab": {
          "base_uri": "https://localhost:8080/"
        },
        "id": "CIFSstSJSbv1",
        "outputId": "a16dbf1c-c4f4-47ca-b922-ca33e3cb93cf"
      },
      "source": [
        "print(\"Total values:\", len(data[\"Suburb\"]))\n",
        "print(\"Total unique values:\", len(set(data[\"Suburb\"])))\n",
        "data[\"SuburbCode\"] = encoder.fit_transform(data[\"Suburb\"])\n",
        "data[\"SuburbFrequency\"] = encode_by_frequency(data[\"Suburb\"])\n",
        "data = data.drop(\"Suburb\", axis=1)\n",
        "print(\"Total unique frequencies:\", len(set(data[\"SuburbFrequency\"])))"
      ],
      "execution_count": 8,
      "outputs": [
        {
          "output_type": "stream",
          "text": [
            "Total values: 13580\n",
            "Total unique values: 314\n",
            "Total unique frequencies: 116\n"
          ],
          "name": "stdout"
        }
      ]
    },
    {
      "cell_type": "code",
      "metadata": {
        "colab": {
          "base_uri": "https://localhost:8080/"
        },
        "id": "YU_QvLYwXKGn",
        "outputId": "719af71b-de37-46c2-985c-0c86a8306a43"
      },
      "source": [
        "# Cleaning Addresses\n",
        "def clean_address(address):\n",
        "    # Remove the house number and End Suffix\n",
        "    address = address.split(' ')\n",
        "    return address[-2].strip()\n",
        "\n",
        "cleaned_addresses = list(map(clean_address, data[\"Address\"]))\n",
        "print(\"Total addresses:\", len(data[\"Address\"]))\n",
        "print(\"Unique values in cleaned addresses:\", len(set(cleaned_addresses)))\n",
        "\n",
        "frequency_encoded_cleaned_addresses = encode_by_frequency(cleaned_addresses)\n",
        "data = data.drop(\"Address\", axis=1)\n",
        "\n",
        "data[\"AddressFrequency\"] = frequency_encoded_cleaned_addresses\n",
        "data[\"AddressCode\"] = encoder.fit_transform(cleaned_addresses)\n",
        "print(\"Total unique address frequencies:\", len(set(data[\"AddressFrequency\"])))"
      ],
      "execution_count": 9,
      "outputs": [
        {
          "output_type": "stream",
          "text": [
            "Total addresses: 13580\n",
            "Unique values in cleaned addresses: 4124\n",
            "Total unique address frequencies: 48\n"
          ],
          "name": "stdout"
        }
      ]
    },
    {
      "cell_type": "code",
      "metadata": {
        "colab": {
          "base_uri": "https://localhost:8080/"
        },
        "id": "6ggl-ecwXmaQ",
        "outputId": "d1f0f8f5-3934-4af7-aedf-7ce1cb44d7f5"
      },
      "source": [
        "print(set(data[\"Rooms\"]))\n",
        "data[\"Rooms\"] = norm(data[\"Rooms\"])"
      ],
      "execution_count": 10,
      "outputs": [
        {
          "output_type": "stream",
          "text": [
            "{1, 2, 3, 4, 5, 6, 7, 8, 10}\n"
          ],
          "name": "stdout"
        }
      ]
    },
    {
      "cell_type": "code",
      "metadata": {
        "colab": {
          "base_uri": "https://localhost:8080/"
        },
        "id": "tU05MqUQd0Sq",
        "outputId": "0532987f-69fb-4057-cdac-8df7ee7da5eb"
      },
      "source": [
        "print(set(data[\"Type\"]))\n",
        "data[\"Type\"] = encoder.fit_transform(data[\"Type\"])"
      ],
      "execution_count": 11,
      "outputs": [
        {
          "output_type": "stream",
          "text": [
            "{'t', 'u', 'h'}\n"
          ],
          "name": "stdout"
        }
      ]
    },
    {
      "cell_type": "code",
      "metadata": {
        "colab": {
          "base_uri": "https://localhost:8080/"
        },
        "id": "GxTG9EOnec4L",
        "outputId": "3ebea699-5e37-4abf-d0e4-cbdde76fd889"
      },
      "source": [
        "print(data[\"Method\"].head())\n",
        "data[\"Method\"] = encoder.fit_transform(data[\"Method\"])"
      ],
      "execution_count": 12,
      "outputs": [
        {
          "output_type": "stream",
          "text": [
            "0     S\n",
            "1     S\n",
            "2    SP\n",
            "3    PI\n",
            "4    VB\n",
            "Name: Method, dtype: object\n"
          ],
          "name": "stdout"
        }
      ]
    },
    {
      "cell_type": "code",
      "metadata": {
        "colab": {
          "base_uri": "https://localhost:8080/"
        },
        "id": "S9pQGkn_fKp8",
        "outputId": "a5d229f6-4780-4127-a0c4-60b5068e6a20"
      },
      "source": [
        "print(data[\"SellerG\"])\n",
        "seller_frequencies = encode_by_frequency(data[\"SellerG\"])\n",
        "seller_codes = encoder.fit_transform(data[\"SellerG\"])\n",
        "print(\"Unique frequencies:\", len(set(seller_frequencies)))\n",
        "print(\"Unique Sellers:\", len(set(seller_codes)))\n",
        "data[\"SellerFreq\"] = seller_frequencies\n",
        "data[\"SellerCode\"] = seller_codes\n",
        "data = data.drop(\"SellerG\", axis=1)"
      ],
      "execution_count": 13,
      "outputs": [
        {
          "output_type": "stream",
          "text": [
            "0          Biggin\n",
            "1          Biggin\n",
            "2          Biggin\n",
            "3          Biggin\n",
            "4          Nelson\n",
            "           ...   \n",
            "13575       Barry\n",
            "13576    Williams\n",
            "13577       Raine\n",
            "13578     Sweeney\n",
            "13579     Village\n",
            "Name: SellerG, Length: 13580, dtype: object\n",
            "Unique frequencies: 74\n",
            "Unique Sellers: 268\n"
          ],
          "name": "stdout"
        }
      ]
    },
    {
      "cell_type": "code",
      "metadata": {
        "colab": {
          "base_uri": "https://localhost:8080/"
        },
        "id": "d0GbbAOnfT8S",
        "outputId": "caa5c796-0a61-41cb-a70a-a50646f1db0c"
      },
      "source": [
        "print(data[\"Date\"])\n",
        "\n",
        "def seperate_date(dates):\n",
        "    ds, ms, ys = [], [], []\n",
        "    for date in dates:\n",
        "        d, m, y = tuple(map(int, date.split('/')))\n",
        "        ds.append(d)\n",
        "        ms.append(m)\n",
        "        ys.append(y)\n",
        "    return ds, ms, ys\n",
        "\n",
        "ds, ms, ys = seperate_date(data[\"Date\"])\n",
        "data[\"DaySold\"] = ds\n",
        "data[\"MonthSold\"] = ms\n",
        "data[\"YearSold\"] = encoder.fit_transform(ys)\n",
        "\n",
        "data = data.drop(\"Date\", axis=1)"
      ],
      "execution_count": 14,
      "outputs": [
        {
          "output_type": "stream",
          "text": [
            "0         3/12/2016\n",
            "1         4/02/2016\n",
            "2         4/03/2017\n",
            "3         4/03/2017\n",
            "4         4/06/2016\n",
            "            ...    \n",
            "13575    26/08/2017\n",
            "13576    26/08/2017\n",
            "13577    26/08/2017\n",
            "13578    26/08/2017\n",
            "13579    26/08/2017\n",
            "Name: Date, Length: 13580, dtype: object\n"
          ],
          "name": "stdout"
        }
      ]
    },
    {
      "cell_type": "code",
      "metadata": {
        "colab": {
          "base_uri": "https://localhost:8080/"
        },
        "id": "VX-9bO-vgPCS",
        "outputId": "f888a9de-9d72-4749-c229-8ecf52d6e1a1"
      },
      "source": [
        "print(data[\"Distance\"])\n",
        "data[\"Distance\"] = norm(data[\"Distance\"])\n",
        "print(data[\"Distance\"])"
      ],
      "execution_count": 15,
      "outputs": [
        {
          "output_type": "stream",
          "text": [
            "0         2.5\n",
            "1         2.5\n",
            "2         2.5\n",
            "3         2.5\n",
            "4         2.5\n",
            "         ... \n",
            "13575    16.7\n",
            "13576     6.8\n",
            "13577     6.8\n",
            "13578     6.8\n",
            "13579     6.3\n",
            "Name: Distance, Length: 13580, dtype: float64\n",
            "0        0.051975\n",
            "1        0.051975\n",
            "2        0.051975\n",
            "3        0.051975\n",
            "4        0.051975\n",
            "           ...   \n",
            "13575    0.347193\n",
            "13576    0.141372\n",
            "13577    0.141372\n",
            "13578    0.141372\n",
            "13579    0.130977\n",
            "Name: Distance, Length: 13580, dtype: float64\n"
          ],
          "name": "stdout"
        }
      ]
    },
    {
      "cell_type": "code",
      "metadata": {
        "colab": {
          "base_uri": "https://localhost:8080/"
        },
        "id": "sJZxfI36hBR1",
        "outputId": "1b065986-9752-4201-a043-c86b93ba7e72"
      },
      "source": [
        "print(data[\"Postcode\"].head())\n",
        "data[\"Postcode\"] = encoder.fit_transform(data[\"Postcode\"])\n",
        "print(data[\"Postcode\"].head())"
      ],
      "execution_count": 16,
      "outputs": [
        {
          "output_type": "stream",
          "text": [
            "0    3067.0\n",
            "1    3067.0\n",
            "2    3067.0\n",
            "3    3067.0\n",
            "4    3067.0\n",
            "Name: Postcode, dtype: float64\n",
            "0    53\n",
            "1    53\n",
            "2    53\n",
            "3    53\n",
            "4    53\n",
            "Name: Postcode, dtype: int64\n"
          ],
          "name": "stdout"
        }
      ]
    },
    {
      "cell_type": "code",
      "metadata": {
        "colab": {
          "base_uri": "https://localhost:8080/"
        },
        "id": "lbf_b4pRhP2y",
        "outputId": "697c0655-fab4-44b3-cd78-970427376b81"
      },
      "source": [
        "# No need to change these\n",
        "print(data[\"Bedroom2\"].head())\n",
        "print(data[\"Bathroom\"].head())"
      ],
      "execution_count": 17,
      "outputs": [
        {
          "output_type": "stream",
          "text": [
            "0    2.0\n",
            "1    2.0\n",
            "2    3.0\n",
            "3    3.0\n",
            "4    3.0\n",
            "Name: Bedroom2, dtype: float64\n",
            "0    1.0\n",
            "1    1.0\n",
            "2    2.0\n",
            "3    2.0\n",
            "4    1.0\n",
            "Name: Bathroom, dtype: float64\n"
          ],
          "name": "stdout"
        }
      ]
    },
    {
      "cell_type": "code",
      "metadata": {
        "colab": {
          "base_uri": "https://localhost:8080/"
        },
        "id": "Ja5taw1dhkj1",
        "outputId": "3ecf1f9b-3815-4e5c-c036-d1ecfc20f22c"
      },
      "source": [
        "print(set(data[\"Car\"]))\n",
        "data[\"Car\"] = norm(data[\"Car\"].replace(np.nan, 0))\n",
        "print(set(data[\"Car\"]))"
      ],
      "execution_count": 18,
      "outputs": [
        {
          "output_type": "stream",
          "text": [
            "{0.0, 1.0, 2.0, 3.0, 4.0, 5.0, 6.0, 7.0, 8.0, 9.0, 10.0, nan, nan, nan, nan, nan, nan, nan, nan, nan, nan, nan, nan, nan, nan, nan, nan, nan, nan, nan, nan, nan, nan, nan, nan, nan, nan, nan, nan, nan, nan, nan, nan, nan, nan, nan, nan, nan, nan, nan, nan, nan, nan, nan, nan, nan, nan, nan, nan, nan, nan, nan, nan, nan, nan, nan, nan, nan, nan, nan, nan, nan, nan}\n",
            "{0.1, 0.0, 0.6, 0.2, 0.5, 0.4, 0.3, 0.8, 0.7, 0.9, 1.0}\n"
          ],
          "name": "stdout"
        }
      ]
    },
    {
      "cell_type": "code",
      "metadata": {
        "colab": {
          "base_uri": "https://localhost:8080/"
        },
        "id": "JaV2nKxihmNi",
        "outputId": "fcf78745-0d24-4350-a564-3da4050cf990"
      },
      "source": [
        "print(data[\"Landsize\"])\n",
        "data[\"Landsize\"] = norm(data[\"Landsize\"])"
      ],
      "execution_count": 19,
      "outputs": [
        {
          "output_type": "stream",
          "text": [
            "0        202.0\n",
            "1        156.0\n",
            "2        134.0\n",
            "3         94.0\n",
            "4        120.0\n",
            "         ...  \n",
            "13575    652.0\n",
            "13576    333.0\n",
            "13577    436.0\n",
            "13578    866.0\n",
            "13579    362.0\n",
            "Name: Landsize, Length: 13580, dtype: float64\n"
          ],
          "name": "stdout"
        }
      ]
    },
    {
      "cell_type": "code",
      "metadata": {
        "colab": {
          "base_uri": "https://localhost:8080/"
        },
        "id": "dO9m0W_5iZsH",
        "outputId": "c32f6537-c78f-4a0a-bfaf-62822e15748e"
      },
      "source": [
        "print(data[\"BuildingArea\"].head())\n",
        "mean_area = sum(data[\"BuildingArea\"].replace(np.nan, 0)) / sum(False == data[\"BuildingArea\"].isna())\n",
        "data[\"BuildingArea\"] = data[\"BuildingArea\"].replace(np.nan, mean_area)\n",
        "data[\"BuildingArea\"] = norm(data[\"BuildingArea\"])\n",
        "print(data[\"BuildingArea\"].head())"
      ],
      "execution_count": 20,
      "outputs": [
        {
          "output_type": "stream",
          "text": [
            "0      NaN\n",
            "1     79.0\n",
            "2    150.0\n",
            "3      NaN\n",
            "4    142.0\n",
            "Name: BuildingArea, dtype: float64\n",
            "0    0.003414\n",
            "1    0.001775\n",
            "2    0.003370\n",
            "3    0.003414\n",
            "4    0.003190\n",
            "Name: BuildingArea, dtype: float64\n"
          ],
          "name": "stdout"
        }
      ]
    },
    {
      "cell_type": "code",
      "metadata": {
        "colab": {
          "base_uri": "https://localhost:8080/"
        },
        "id": "ztPec2xAinU-",
        "outputId": "3f5cda01-aeb8-4b32-fc18-d4733eec0186"
      },
      "source": [
        "print(data[\"YearBuilt\"].head())\n",
        "data[\"YearBuilt\"] = data[\"YearBuilt\"].replace(np.nan, 0)\n",
        "data[\"YearBuilt\"] = encoder.fit_transform(data[\"YearBuilt\"])\n",
        "print(data[\"YearBuilt\"].head())"
      ],
      "execution_count": 21,
      "outputs": [
        {
          "output_type": "stream",
          "text": [
            "0       NaN\n",
            "1    1900.0\n",
            "2    1900.0\n",
            "3       NaN\n",
            "4    2014.0\n",
            "Name: YearBuilt, dtype: float64\n",
            "0      0\n",
            "1     30\n",
            "2     30\n",
            "3      0\n",
            "4    140\n",
            "Name: YearBuilt, dtype: int64\n"
          ],
          "name": "stdout"
        }
      ]
    },
    {
      "cell_type": "code",
      "metadata": {
        "colab": {
          "base_uri": "https://localhost:8080/"
        },
        "id": "xN2ZVeKTj2YE",
        "outputId": "ccd15872-12f9-4f38-f029-72d14d54a53e"
      },
      "source": [
        "print(data[\"CouncilArea\"].head())\n",
        "data[\"CouncilArea\"] = data[\"CouncilArea\"].replace(np.nan, \"Unknown\")\n",
        "council_codes = encoder.fit_transform(data[\"CouncilArea\"])\n",
        "council_frequencies = encode_by_frequency(data[\"CouncilArea\"])\n",
        "data[\"CouncilCode\"] = council_codes\n",
        "data[\"CouncilFreq\"] = council_frequencies\n",
        "data = data.drop(\"CouncilArea\", axis=1)\n",
        "print(data[\"CouncilCode\"].head())"
      ],
      "execution_count": 22,
      "outputs": [
        {
          "output_type": "stream",
          "text": [
            "0    Yarra\n",
            "1    Yarra\n",
            "2    Yarra\n",
            "3    Yarra\n",
            "4    Yarra\n",
            "Name: CouncilArea, dtype: object\n",
            "0    32\n",
            "1    32\n",
            "2    32\n",
            "3    32\n",
            "4    32\n",
            "Name: CouncilCode, dtype: int64\n"
          ],
          "name": "stdout"
        }
      ]
    },
    {
      "cell_type": "code",
      "metadata": {
        "colab": {
          "base_uri": "https://localhost:8080/"
        },
        "id": "cUn0DT6mj90X",
        "outputId": "6dd4eca4-9f29-4691-a902-82b2cf1e19c8"
      },
      "source": [
        "print(data[\"Lattitude\"].head())\n",
        "print(data[\"Longtitude\"].head())"
      ],
      "execution_count": 23,
      "outputs": [
        {
          "output_type": "stream",
          "text": [
            "0   -37.7996\n",
            "1   -37.8079\n",
            "2   -37.8093\n",
            "3   -37.7969\n",
            "4   -37.8072\n",
            "Name: Lattitude, dtype: float64\n",
            "0    144.9984\n",
            "1    144.9934\n",
            "2    144.9944\n",
            "3    144.9969\n",
            "4    144.9941\n",
            "Name: Longtitude, dtype: float64\n"
          ],
          "name": "stdout"
        }
      ]
    },
    {
      "cell_type": "code",
      "metadata": {
        "colab": {
          "base_uri": "https://localhost:8080/"
        },
        "id": "IpjdopuplaGl",
        "outputId": "8b093ec7-4115-479e-c783-cee493502458"
      },
      "source": [
        "print(data[\"Regionname\"].head())\n",
        "print(set(data[\"Regionname\"]))\n",
        "print(\"Unique regions:\", len(set(data[\"Regionname\"])))\n",
        "region_frequencies = encode_by_frequency(data[\"Regionname\"])\n",
        "region_codes = encoder.fit_transform(data[\"Regionname\"])\n",
        "print(\"Unique region frequencies:\", len(set(region_frequencies)) )\n",
        "print(set(region_frequencies))\n",
        "data[\"RegionCode\"] = region_codes\n",
        "data[\"RegionFreq\"] = region_frequencies\n",
        "data = data.drop(\"Regionname\", axis=1)"
      ],
      "execution_count": 24,
      "outputs": [
        {
          "output_type": "stream",
          "text": [
            "0    Northern Metropolitan\n",
            "1    Northern Metropolitan\n",
            "2    Northern Metropolitan\n",
            "3    Northern Metropolitan\n",
            "4    Northern Metropolitan\n",
            "Name: Regionname, dtype: object\n",
            "{'South-Eastern Metropolitan', 'Eastern Victoria', 'Eastern Metropolitan', 'Western Metropolitan', 'Northern Metropolitan', 'Northern Victoria', 'Southern Metropolitan', 'Western Victoria'}\n",
            "Unique regions: 8\n",
            "Unique region frequencies: 8\n",
            "{0.8273643577096289, 0.6253484880977912, 0.3085996139824148, 1.0, 0.08964186146257777, 0.004503538494531418, 0.0, 0.0019300879262277506}\n"
          ],
          "name": "stdout"
        }
      ]
    },
    {
      "cell_type": "code",
      "metadata": {
        "colab": {
          "base_uri": "https://localhost:8080/"
        },
        "id": "v-txDDhblsPZ",
        "outputId": "a350f2ba-60f0-4df9-f5d8-a90928839d46"
      },
      "source": [
        "print(data[\"Propertycount\"].head())\n",
        "data[\"PropertyCount\"] = norm(data[\"Propertycount\"])\n",
        "print(data[\"Propertycount\"].head())"
      ],
      "execution_count": 25,
      "outputs": [
        {
          "output_type": "stream",
          "text": [
            "0    4019.0\n",
            "1    4019.0\n",
            "2    4019.0\n",
            "3    4019.0\n",
            "4    4019.0\n",
            "Name: Propertycount, dtype: float64\n",
            "0    4019.0\n",
            "1    4019.0\n",
            "2    4019.0\n",
            "3    4019.0\n",
            "4    4019.0\n",
            "Name: Propertycount, dtype: float64\n"
          ],
          "name": "stdout"
        }
      ]
    },
    {
      "cell_type": "code",
      "metadata": {
        "colab": {
          "base_uri": "https://localhost:8080/"
        },
        "id": "2uKbesCSm0-9",
        "outputId": "93943608-a2cf-4a89-c3af-af0b546ceebb"
      },
      "source": [
        "data.columns"
      ],
      "execution_count": 26,
      "outputs": [
        {
          "output_type": "execute_result",
          "data": {
            "text/plain": [
              "Index(['Rooms', 'Type', 'Price', 'Method', 'Distance', 'Postcode', 'Bedroom2',\n",
              "       'Bathroom', 'Car', 'Landsize', 'BuildingArea', 'YearBuilt', 'Lattitude',\n",
              "       'Longtitude', 'Propertycount', 'SuburbCode', 'SuburbFrequency',\n",
              "       'AddressFrequency', 'AddressCode', 'SellerFreq', 'SellerCode',\n",
              "       'DaySold', 'MonthSold', 'YearSold', 'CouncilCode', 'CouncilFreq',\n",
              "       'RegionCode', 'RegionFreq', 'PropertyCount'],\n",
              "      dtype='object')"
            ]
          },
          "metadata": {
            "tags": []
          },
          "execution_count": 26
        }
      ]
    },
    {
      "cell_type": "markdown",
      "metadata": {
        "id": "j3sQkpYNBSFU"
      },
      "source": [
        "# Split into features and target"
      ]
    },
    {
      "cell_type": "code",
      "metadata": {
        "id": "TgZ_9e3NBRWW"
      },
      "source": [
        "X, y = data.drop(\"Price\", axis=1), data[\"Price\"]"
      ],
      "execution_count": 27,
      "outputs": []
    },
    {
      "cell_type": "markdown",
      "metadata": {
        "id": "iphP1BU_nDrW"
      },
      "source": [
        "# Feature Selection and Model Construction"
      ]
    },
    {
      "cell_type": "code",
      "metadata": {
        "id": "sKxPAJTI0nqd"
      },
      "source": [
        "feature_overall_scores = {fe:0 for fe in data.columns}"
      ],
      "execution_count": 28,
      "outputs": []
    },
    {
      "cell_type": "code",
      "metadata": {
        "id": "B5c8Q1ornIkv"
      },
      "source": [
        "from sklearn.feature_selection import f_regression\n",
        "from sklearn.feature_selection import VarianceThreshold\n",
        "\n",
        "from sklearn.feature_selection import SelectKBest\n",
        "from sklearn.feature_selection import SelectFromModel\n",
        "\n",
        "# Estimators\n",
        "from sklearn.linear_model import LinearRegression\n",
        "from sklearn.ensemble import RandomForestRegressor\n",
        "\n",
        "from sklearn.model_selection import train_test_split\n",
        "from sklearn.metrics import r2_score"
      ],
      "execution_count": 29,
      "outputs": []
    },
    {
      "cell_type": "code",
      "metadata": {
        "colab": {
          "base_uri": "https://localhost:8080/",
          "height": 226
        },
        "id": "SjM2u7-sC1K_",
        "outputId": "d280c2aa-c8d7-4849-f9bf-0721bb38edcc"
      },
      "source": [
        "X.head()"
      ],
      "execution_count": 30,
      "outputs": [
        {
          "output_type": "execute_result",
          "data": {
            "text/html": [
              "<div>\n",
              "<style scoped>\n",
              "    .dataframe tbody tr th:only-of-type {\n",
              "        vertical-align: middle;\n",
              "    }\n",
              "\n",
              "    .dataframe tbody tr th {\n",
              "        vertical-align: top;\n",
              "    }\n",
              "\n",
              "    .dataframe thead th {\n",
              "        text-align: right;\n",
              "    }\n",
              "</style>\n",
              "<table border=\"1\" class=\"dataframe\">\n",
              "  <thead>\n",
              "    <tr style=\"text-align: right;\">\n",
              "      <th></th>\n",
              "      <th>Rooms</th>\n",
              "      <th>Type</th>\n",
              "      <th>Method</th>\n",
              "      <th>Distance</th>\n",
              "      <th>Postcode</th>\n",
              "      <th>Bedroom2</th>\n",
              "      <th>Bathroom</th>\n",
              "      <th>Car</th>\n",
              "      <th>Landsize</th>\n",
              "      <th>BuildingArea</th>\n",
              "      <th>YearBuilt</th>\n",
              "      <th>Lattitude</th>\n",
              "      <th>Longtitude</th>\n",
              "      <th>Propertycount</th>\n",
              "      <th>SuburbCode</th>\n",
              "      <th>SuburbFrequency</th>\n",
              "      <th>AddressFrequency</th>\n",
              "      <th>AddressCode</th>\n",
              "      <th>SellerFreq</th>\n",
              "      <th>SellerCode</th>\n",
              "      <th>DaySold</th>\n",
              "      <th>MonthSold</th>\n",
              "      <th>YearSold</th>\n",
              "      <th>CouncilCode</th>\n",
              "      <th>CouncilFreq</th>\n",
              "      <th>RegionCode</th>\n",
              "      <th>RegionFreq</th>\n",
              "      <th>PropertyCount</th>\n",
              "    </tr>\n",
              "  </thead>\n",
              "  <tbody>\n",
              "    <tr>\n",
              "      <th>0</th>\n",
              "      <td>0.111111</td>\n",
              "      <td>0</td>\n",
              "      <td>1</td>\n",
              "      <td>0.051975</td>\n",
              "      <td>53</td>\n",
              "      <td>2.0</td>\n",
              "      <td>1.0</td>\n",
              "      <td>0.1</td>\n",
              "      <td>0.000466</td>\n",
              "      <td>0.003414</td>\n",
              "      <td>0</td>\n",
              "      <td>-37.7996</td>\n",
              "      <td>144.9984</td>\n",
              "      <td>4019.0</td>\n",
              "      <td>0</td>\n",
              "      <td>0.153631</td>\n",
              "      <td>0.048</td>\n",
              "      <td>3739</td>\n",
              "      <td>0.250639</td>\n",
              "      <td>23</td>\n",
              "      <td>3</td>\n",
              "      <td>12</td>\n",
              "      <td>0</td>\n",
              "      <td>32</td>\n",
              "      <td>0.472222</td>\n",
              "      <td>2</td>\n",
              "      <td>0.827364</td>\n",
              "      <td>0.17616</td>\n",
              "    </tr>\n",
              "    <tr>\n",
              "      <th>1</th>\n",
              "      <td>0.111111</td>\n",
              "      <td>0</td>\n",
              "      <td>1</td>\n",
              "      <td>0.051975</td>\n",
              "      <td>53</td>\n",
              "      <td>2.0</td>\n",
              "      <td>1.0</td>\n",
              "      <td>0.0</td>\n",
              "      <td>0.000360</td>\n",
              "      <td>0.001775</td>\n",
              "      <td>30</td>\n",
              "      <td>-37.8079</td>\n",
              "      <td>144.9934</td>\n",
              "      <td>4019.0</td>\n",
              "      <td>0</td>\n",
              "      <td>0.153631</td>\n",
              "      <td>0.000</td>\n",
              "      <td>421</td>\n",
              "      <td>0.250639</td>\n",
              "      <td>23</td>\n",
              "      <td>4</td>\n",
              "      <td>2</td>\n",
              "      <td>0</td>\n",
              "      <td>32</td>\n",
              "      <td>0.472222</td>\n",
              "      <td>2</td>\n",
              "      <td>0.827364</td>\n",
              "      <td>0.17616</td>\n",
              "    </tr>\n",
              "    <tr>\n",
              "      <th>2</th>\n",
              "      <td>0.222222</td>\n",
              "      <td>0</td>\n",
              "      <td>3</td>\n",
              "      <td>0.051975</td>\n",
              "      <td>53</td>\n",
              "      <td>3.0</td>\n",
              "      <td>2.0</td>\n",
              "      <td>0.0</td>\n",
              "      <td>0.000309</td>\n",
              "      <td>0.003370</td>\n",
              "      <td>30</td>\n",
              "      <td>-37.8093</td>\n",
              "      <td>144.9944</td>\n",
              "      <td>4019.0</td>\n",
              "      <td>0</td>\n",
              "      <td>0.153631</td>\n",
              "      <td>0.328</td>\n",
              "      <td>745</td>\n",
              "      <td>0.250639</td>\n",
              "      <td>23</td>\n",
              "      <td>4</td>\n",
              "      <td>3</td>\n",
              "      <td>1</td>\n",
              "      <td>32</td>\n",
              "      <td>0.472222</td>\n",
              "      <td>2</td>\n",
              "      <td>0.827364</td>\n",
              "      <td>0.17616</td>\n",
              "    </tr>\n",
              "    <tr>\n",
              "      <th>3</th>\n",
              "      <td>0.222222</td>\n",
              "      <td>0</td>\n",
              "      <td>0</td>\n",
              "      <td>0.051975</td>\n",
              "      <td>53</td>\n",
              "      <td>3.0</td>\n",
              "      <td>2.0</td>\n",
              "      <td>0.1</td>\n",
              "      <td>0.000217</td>\n",
              "      <td>0.003414</td>\n",
              "      <td>0</td>\n",
              "      <td>-37.7969</td>\n",
              "      <td>144.9969</td>\n",
              "      <td>4019.0</td>\n",
              "      <td>0</td>\n",
              "      <td>0.153631</td>\n",
              "      <td>0.016</td>\n",
              "      <td>1366</td>\n",
              "      <td>0.250639</td>\n",
              "      <td>23</td>\n",
              "      <td>4</td>\n",
              "      <td>3</td>\n",
              "      <td>1</td>\n",
              "      <td>32</td>\n",
              "      <td>0.472222</td>\n",
              "      <td>2</td>\n",
              "      <td>0.827364</td>\n",
              "      <td>0.17616</td>\n",
              "    </tr>\n",
              "    <tr>\n",
              "      <th>4</th>\n",
              "      <td>0.333333</td>\n",
              "      <td>0</td>\n",
              "      <td>4</td>\n",
              "      <td>0.051975</td>\n",
              "      <td>53</td>\n",
              "      <td>3.0</td>\n",
              "      <td>1.0</td>\n",
              "      <td>0.2</td>\n",
              "      <td>0.000277</td>\n",
              "      <td>0.003190</td>\n",
              "      <td>140</td>\n",
              "      <td>-37.8072</td>\n",
              "      <td>144.9941</td>\n",
              "      <td>4019.0</td>\n",
              "      <td>0</td>\n",
              "      <td>0.153631</td>\n",
              "      <td>0.488</td>\n",
              "      <td>2935</td>\n",
              "      <td>1.000000</td>\n",
              "      <td>155</td>\n",
              "      <td>4</td>\n",
              "      <td>6</td>\n",
              "      <td>0</td>\n",
              "      <td>32</td>\n",
              "      <td>0.472222</td>\n",
              "      <td>2</td>\n",
              "      <td>0.827364</td>\n",
              "      <td>0.17616</td>\n",
              "    </tr>\n",
              "  </tbody>\n",
              "</table>\n",
              "</div>"
            ],
            "text/plain": [
              "      Rooms  Type  Method  ...  RegionCode  RegionFreq  PropertyCount\n",
              "0  0.111111     0       1  ...           2    0.827364        0.17616\n",
              "1  0.111111     0       1  ...           2    0.827364        0.17616\n",
              "2  0.222222     0       3  ...           2    0.827364        0.17616\n",
              "3  0.222222     0       0  ...           2    0.827364        0.17616\n",
              "4  0.333333     0       4  ...           2    0.827364        0.17616\n",
              "\n",
              "[5 rows x 28 columns]"
            ]
          },
          "metadata": {
            "tags": []
          },
          "execution_count": 30
        }
      ]
    },
    {
      "cell_type": "code",
      "metadata": {
        "colab": {
          "base_uri": "https://localhost:8080/",
          "height": 694
        },
        "id": "q6SJBHiqA9XD",
        "outputId": "aa20e17e-508c-49eb-a100-aa1d56f74e2a"
      },
      "source": [
        "# sklearn feature selectors\n",
        "freg_results = f_regression(X, y)[0]\n",
        "variance_selector = VarianceThreshold()\n",
        "variance_selector.fit_transform(X)\n",
        "variance_results = variance_selector.variances_\n",
        "\n",
        "plt.xticks(rotation=90)\n",
        "plt.bar(X.columns, freg_results, color ='maroon', width=0.9)\n",
        "plt.show()\n",
        "print()\n",
        "\n",
        "plt.xticks(rotation=90)\n",
        "plt.bar(X.columns, variance_results, color ='blue', width=0.9)\n",
        "plt.show()"
      ],
      "execution_count": 31,
      "outputs": [
        {
          "output_type": "display_data",
          "data": {
            "image/png": "[encoded data removed]",
            "text/plain": [
              "<Figure size 432x288 with 1 Axes>"
            ]
          },
          "metadata": {
            "tags": [],
            "needs_background": "light"
          }
        },
        {
          "output_type": "stream",
          "text": [
            "\n"
          ],
          "name": "stdout"
        },
        {
          "output_type": "display_data",
          "data": {
            "image/png": "[encoded data removed]",
            "text/plain": [
              "<Figure size 432x288 with 1 Axes>"
            ]
          },
          "metadata": {
            "tags": [],
            "needs_background": "light"
          }
        }
      ]
    },
    {
      "cell_type": "code",
      "metadata": {
        "colab": {
          "base_uri": "https://localhost:8080/"
        },
        "id": "7aE1IvEr0_3U",
        "outputId": "5998fbf0-0f20-4e39-eda8-1185976fbf89"
      },
      "source": [
        "# Add scores of top 10 features in f_reg and top 4 features from variance_selector\n",
        "\n",
        "freg_results_map = {X.columns[i]:freg_results[i] for i in range(len(X.columns))}\n",
        "sorted_results = sorted([*X.columns], key=lambda x: freg_results_map[x])[::-1]\n",
        "print(sorted_results)\n",
        "\n",
        "for i in range(10):\n",
        "    feature_overall_scores[sorted_results[i]] += 1\n",
        "\n",
        "variance_results_map = {X.columns[i]:variance_results[i] for i in range(len(X.columns))}\n",
        "sorted_results = sorted([*X.columns], key=lambda x: variance_results_map[x])[::-1]\n",
        "print(sorted_results)\n",
        "\n",
        "for i in range(5):\n",
        "    feature_overall_scores[sorted_results[i]] += 1"
      ],
      "execution_count": 32,
      "outputs": [
        {
          "output_type": "stream",
          "text": [
            "['Rooms', 'Bedroom2', 'Bathroom', 'Type', 'Car', 'Postcode', 'Lattitude', 'Longtitude', 'RegionFreq', 'Distance', 'YearBuilt', 'SuburbCode', 'CouncilFreq', 'RegionCode', 'CouncilCode', 'BuildingArea', 'SuburbFrequency', 'SellerFreq', 'SellerCode', 'Propertycount', 'PropertyCount', 'Method', 'Landsize', 'MonthSold', 'DaySold', 'AddressFrequency', 'AddressCode', 'YearSold']\n",
            "['Propertycount', 'AddressCode', 'SuburbCode', 'SellerCode', 'Postcode', 'YearBuilt', 'CouncilCode', 'DaySold', 'MonthSold', 'RegionCode', 'Method', 'Bedroom2', 'Type', 'Bathroom', 'YearSold', 'SellerFreq', 'CouncilFreq', 'RegionFreq', 'SuburbFrequency', 'PropertyCount', 'AddressFrequency', 'Distance', 'Rooms', 'Longtitude', 'Car', 'Lattitude', 'Landsize', 'BuildingArea']\n"
          ],
          "name": "stdout"
        }
      ]
    },
    {
      "cell_type": "code",
      "metadata": {
        "id": "B6JfcZoXCdEA"
      },
      "source": [
        "k_best_freg = SelectKBest(score_func=f_regression, k=14)\n",
        "x_data_new = k_best_freg.fit_transform(X, y)"
      ],
      "execution_count": 33,
      "outputs": []
    },
    {
      "cell_type": "markdown",
      "metadata": {
        "id": "JPxhx580Mr-R"
      },
      "source": [
        "### Comparing two basic models"
      ]
    },
    {
      "cell_type": "code",
      "metadata": {
        "colab": {
          "base_uri": "https://localhost:8080/"
        },
        "id": "nXb_8WkpIY8_",
        "outputId": "b1b98a69-31ee-4b22-c7c2-96d6b08f7901"
      },
      "source": [
        "x_train, x_test, y_train, y_test = train_test_split(x_data_new, y, random_state=42, test_size=0.2)\n",
        "regressor = LinearRegression()\n",
        "regressor.fit(x_train, y_train)\n",
        "predictions = regressor.predict(x_test)\n",
        "error = r2_score(y_test, predictions)\n",
        "\n",
        "print()\n",
        "print(\"Error rate in model with limited features:\\t\", error)\n",
        "\n",
        "x_train, x_test, y_train, y_test = train_test_split(X, y, random_state=42, test_size=0.2)\n",
        "regressor = LinearRegression()\n",
        "regressor.fit(x_train, y_train)\n",
        "predictions = regressor.predict(x_test)\n",
        "error = r2_score(y_test, predictions)\n",
        "\n",
        "print(\"Error rate in model with all features:   \\t\", error)"
      ],
      "execution_count": 34,
      "outputs": [
        {
          "output_type": "stream",
          "text": [
            "\n",
            "Error rate in model with limited features:\t 0.6094244036674188\n",
            "Error rate in model with all features:   \t 0.5945380754126708\n"
          ],
          "name": "stdout"
        }
      ]
    },
    {
      "cell_type": "code",
      "metadata": {
        "colab": {
          "base_uri": "https://localhost:8080/"
        },
        "id": "GnCsKg1wJXXt",
        "outputId": "bcd4c891-13b7-4cf0-da8b-75068e877c2e"
      },
      "source": [
        "x_train, x_test, y_train, y_test = train_test_split(x_data_new, y, random_state=42, test_size=0.2)\n",
        "regressor = RandomForestRegressor()\n",
        "regressor.fit(x_train, y_train)\n",
        "predictions = regressor.predict(x_test)\n",
        "error = r2_score(y_test, predictions)\n",
        "\n",
        "print()\n",
        "print(\"Error rate in model with limited features:\\t\", error)\n",
        "\n",
        "x_train, x_test, y_train, y_test = train_test_split(X, y, random_state=42, test_size=0.2)\n",
        "regressor = RandomForestRegressor()\n",
        "regressor.fit(x_train, y_train)\n",
        "predictions = regressor.predict(x_test)\n",
        "error = r2_score(y_test, predictions)\n",
        "\n",
        "print(\"Error rate in model with all features:   \\t\", error)"
      ],
      "execution_count": 35,
      "outputs": [
        {
          "output_type": "stream",
          "text": [
            "\n",
            "Error rate in model with limited features:\t 0.7516526290163844\n",
            "Error rate in model with all features:   \t 0.8152391740621279\n"
          ],
          "name": "stdout"
        }
      ]
    },
    {
      "cell_type": "markdown",
      "metadata": {
        "id": "ABd3Tf8Fqv3w"
      },
      "source": [
        "## Using sklearn.feature_selection.SelectFromModel"
      ]
    },
    {
      "cell_type": "code",
      "metadata": {
        "colab": {
          "base_uri": "https://localhost:8080/"
        },
        "id": "O5314xf2qvX0",
        "outputId": "7f409077-8ebb-4242-8d2d-70e4411f9087"
      },
      "source": [
        "rfm = RandomForestRegressor()\n",
        "sfm = SelectFromModel(estimator=rfm)\n",
        "sfm.fit_transform(X, y)\n",
        "\n",
        "print(\"Most important features:\")\n",
        "for idx in sfm.get_support(indices=True):\n",
        "    print( X.columns[idx] )\n",
        "    feature_overall_scores[X.columns[idx]] += 1"
      ],
      "execution_count": 36,
      "outputs": [
        {
          "output_type": "stream",
          "text": [
            "Most important features:\n",
            "Rooms\n",
            "Type\n",
            "Distance\n",
            "Landsize\n",
            "BuildingArea\n",
            "Longtitude\n",
            "RegionFreq\n"
          ],
          "name": "stdout"
        }
      ]
    },
    {
      "cell_type": "code",
      "metadata": {
        "id": "LqDEAvuxT9-O",
        "colab": {
          "base_uri": "https://localhost:8080/"
        },
        "outputId": "a78f2500-ca36-46ff-b01d-f057e45e9f61"
      },
      "source": [
        "rfm = LinearRegression()\n",
        "sfm = SelectFromModel(estimator=rfm)\n",
        "sfm.fit_transform(X, y)\n",
        "\n",
        "print(\"Most important features:\")\n",
        "for idx in sfm.get_support(indices=True):\n",
        "    print( X.columns[idx] )\n",
        "    feature_overall_scores[X.columns[idx]] += 1"
      ],
      "execution_count": 37,
      "outputs": [
        {
          "output_type": "stream",
          "text": [
            "Most important features:\n",
            "Rooms\n",
            "Distance\n",
            "Car\n",
            "Landsize\n",
            "BuildingArea\n",
            "Lattitude\n",
            "Longtitude\n"
          ],
          "name": "stdout"
        }
      ]
    },
    {
      "cell_type": "code",
      "metadata": {
        "colab": {
          "base_uri": "https://localhost:8080/"
        },
        "id": "c4tHX4mzzHdw",
        "outputId": "3254ff30-2e44-4a53-a86f-b67e7bac96df"
      },
      "source": [
        "sorted_features = sorted([*X.columns], key=lambda x:feature_overall_scores[x])[::-1]\n",
        "top_features = sorted_features[:15]\n",
        "print(top_features)"
      ],
      "execution_count": 38,
      "outputs": [
        {
          "output_type": "stream",
          "text": [
            "['Longtitude', 'Distance', 'Rooms', 'RegionFreq', 'Lattitude', 'BuildingArea', 'Landsize', 'Car', 'Postcode', 'Type', 'SellerCode', 'AddressCode', 'SuburbCode', 'Propertycount', 'Bathroom']\n"
          ],
          "name": "stdout"
        }
      ]
    },
    {
      "cell_type": "code",
      "metadata": {
        "id": "Rwkh95aJ4jad"
      },
      "source": [
        "X_new = data[top_features]"
      ],
      "execution_count": 39,
      "outputs": []
    },
    {
      "cell_type": "code",
      "metadata": {
        "colab": {
          "base_uri": "https://localhost:8080/",
          "height": 206
        },
        "id": "u6V_UkQh424j",
        "outputId": "583949c7-5a82-4beb-c174-8a09f8173c80"
      },
      "source": [
        "X_new.head()"
      ],
      "execution_count": 40,
      "outputs": [
        {
          "output_type": "execute_result",
          "data": {
            "text/html": [
              "<div>\n",
              "<style scoped>\n",
              "    .dataframe tbody tr th:only-of-type {\n",
              "        vertical-align: middle;\n",
              "    }\n",
              "\n",
              "    .dataframe tbody tr th {\n",
              "        vertical-align: top;\n",
              "    }\n",
              "\n",
              "    .dataframe thead th {\n",
              "        text-align: right;\n",
              "    }\n",
              "</style>\n",
              "<table border=\"1\" class=\"dataframe\">\n",
              "  <thead>\n",
              "    <tr style=\"text-align: right;\">\n",
              "      <th></th>\n",
              "      <th>Longtitude</th>\n",
              "      <th>Distance</th>\n",
              "      <th>Rooms</th>\n",
              "      <th>RegionFreq</th>\n",
              "      <th>Lattitude</th>\n",
              "      <th>BuildingArea</th>\n",
              "      <th>Landsize</th>\n",
              "      <th>Car</th>\n",
              "      <th>Postcode</th>\n",
              "      <th>Type</th>\n",
              "      <th>SellerCode</th>\n",
              "      <th>AddressCode</th>\n",
              "      <th>SuburbCode</th>\n",
              "      <th>Propertycount</th>\n",
              "      <th>Bathroom</th>\n",
              "    </tr>\n",
              "  </thead>\n",
              "  <tbody>\n",
              "    <tr>\n",
              "      <th>0</th>\n",
              "      <td>144.9984</td>\n",
              "      <td>0.051975</td>\n",
              "      <td>0.111111</td>\n",
              "      <td>0.827364</td>\n",
              "      <td>-37.7996</td>\n",
              "      <td>0.003414</td>\n",
              "      <td>0.000466</td>\n",
              "      <td>0.1</td>\n",
              "      <td>53</td>\n",
              "      <td>0</td>\n",
              "      <td>23</td>\n",
              "      <td>3739</td>\n",
              "      <td>0</td>\n",
              "      <td>4019.0</td>\n",
              "      <td>1.0</td>\n",
              "    </tr>\n",
              "    <tr>\n",
              "      <th>1</th>\n",
              "      <td>144.9934</td>\n",
              "      <td>0.051975</td>\n",
              "      <td>0.111111</td>\n",
              "      <td>0.827364</td>\n",
              "      <td>-37.8079</td>\n",
              "      <td>0.001775</td>\n",
              "      <td>0.000360</td>\n",
              "      <td>0.0</td>\n",
              "      <td>53</td>\n",
              "      <td>0</td>\n",
              "      <td>23</td>\n",
              "      <td>421</td>\n",
              "      <td>0</td>\n",
              "      <td>4019.0</td>\n",
              "      <td>1.0</td>\n",
              "    </tr>\n",
              "    <tr>\n",
              "      <th>2</th>\n",
              "      <td>144.9944</td>\n",
              "      <td>0.051975</td>\n",
              "      <td>0.222222</td>\n",
              "      <td>0.827364</td>\n",
              "      <td>-37.8093</td>\n",
              "      <td>0.003370</td>\n",
              "      <td>0.000309</td>\n",
              "      <td>0.0</td>\n",
              "      <td>53</td>\n",
              "      <td>0</td>\n",
              "      <td>23</td>\n",
              "      <td>745</td>\n",
              "      <td>0</td>\n",
              "      <td>4019.0</td>\n",
              "      <td>2.0</td>\n",
              "    </tr>\n",
              "    <tr>\n",
              "      <th>3</th>\n",
              "      <td>144.9969</td>\n",
              "      <td>0.051975</td>\n",
              "      <td>0.222222</td>\n",
              "      <td>0.827364</td>\n",
              "      <td>-37.7969</td>\n",
              "      <td>0.003414</td>\n",
              "      <td>0.000217</td>\n",
              "      <td>0.1</td>\n",
              "      <td>53</td>\n",
              "      <td>0</td>\n",
              "      <td>23</td>\n",
              "      <td>1366</td>\n",
              "      <td>0</td>\n",
              "      <td>4019.0</td>\n",
              "      <td>2.0</td>\n",
              "    </tr>\n",
              "    <tr>\n",
              "      <th>4</th>\n",
              "      <td>144.9941</td>\n",
              "      <td>0.051975</td>\n",
              "      <td>0.333333</td>\n",
              "      <td>0.827364</td>\n",
              "      <td>-37.8072</td>\n",
              "      <td>0.003190</td>\n",
              "      <td>0.000277</td>\n",
              "      <td>0.2</td>\n",
              "      <td>53</td>\n",
              "      <td>0</td>\n",
              "      <td>155</td>\n",
              "      <td>2935</td>\n",
              "      <td>0</td>\n",
              "      <td>4019.0</td>\n",
              "      <td>1.0</td>\n",
              "    </tr>\n",
              "  </tbody>\n",
              "</table>\n",
              "</div>"
            ],
            "text/plain": [
              "   Longtitude  Distance     Rooms  ...  SuburbCode  Propertycount  Bathroom\n",
              "0    144.9984  0.051975  0.111111  ...           0         4019.0       1.0\n",
              "1    144.9934  0.051975  0.111111  ...           0         4019.0       1.0\n",
              "2    144.9944  0.051975  0.222222  ...           0         4019.0       2.0\n",
              "3    144.9969  0.051975  0.222222  ...           0         4019.0       2.0\n",
              "4    144.9941  0.051975  0.333333  ...           0         4019.0       1.0\n",
              "\n",
              "[5 rows x 15 columns]"
            ]
          },
          "metadata": {
            "tags": []
          },
          "execution_count": 40
        }
      ]
    },
    {
      "cell_type": "markdown",
      "metadata": {
        "id": "LZmqDlKQ4RrM"
      },
      "source": [
        "# Comparing Models"
      ]
    },
    {
      "cell_type": "code",
      "metadata": {
        "id": "V3V1rtCP40l4"
      },
      "source": [
        "# from sklearn.model_selection import GridSearchCV\n",
        "from sklearn.svm import SVR\n",
        "# LinearRegression and RandomForest are already imported."
      ],
      "execution_count": 41,
      "outputs": []
    },
    {
      "cell_type": "code",
      "metadata": {
        "id": "5ZlcR8Qa8ac6"
      },
      "source": [
        "x_train_part, x_test_part, y_train, y_test = train_test_split(X_new, y, random_state=42, test_size=0.2)\n",
        "x_train_full, x_test_full, y_train, y_test = train_test_split(X, y, random_state=42, test_size=0.2)"
      ],
      "execution_count": 42,
      "outputs": []
    },
    {
      "cell_type": "markdown",
      "metadata": {
        "id": "Ul7ir_4L8014"
      },
      "source": [
        "### LinearRegression Model"
      ]
    },
    {
      "cell_type": "code",
      "metadata": {
        "colab": {
          "base_uri": "https://localhost:8080/"
        },
        "id": "iMOQIQTA8umq",
        "outputId": "2039a6f5-a003-42fa-bbaf-a3b90aebb8f7"
      },
      "source": [
        "regressor = LinearRegression()\n",
        "regressor.fit(x_train_part, y_train)\n",
        "predictions = regressor.predict(x_test_part)\n",
        "error_part = r2_score(y_test, predictions)\n",
        "\n",
        "regressor = LinearRegression()\n",
        "regressor.fit(x_train_full, y_train)\n",
        "predictions = regressor.predict(x_test_full)\n",
        "error_full = r2_score(y_test, predictions)\n",
        "\n",
        "print(\"Error rate in model with limited features: \", error_part)\n",
        "print(\"Error rate in model with full features:    \", error_full)"
      ],
      "execution_count": 43,
      "outputs": [
        {
          "output_type": "stream",
          "text": [
            "Error rate in model with limited features:  0.5753493760451664\n",
            "Error rate in model with full features:     0.5945380754126708\n"
          ],
          "name": "stdout"
        }
      ]
    },
    {
      "cell_type": "markdown",
      "metadata": {
        "id": "uvRQnkdY_Oqk"
      },
      "source": [
        "### RandomForestRegressor Model"
      ]
    },
    {
      "cell_type": "code",
      "metadata": {
        "colab": {
          "base_uri": "https://localhost:8080/"
        },
        "id": "ap3_5bFz9e_Z",
        "outputId": "5bf37781-1b4d-466e-8436-f237f434d6bb"
      },
      "source": [
        "rf_gs_results = {}\n",
        "\n",
        "for e in (10, 100):\n",
        "    for d in (None, 5, 50):\n",
        "        model = RandomForestRegressor(n_estimators=e, max_depth=d)\n",
        "        model.fit(x_train_full, y_train)\n",
        "        predictions = model.predict(x_test_full)\n",
        "        error = r2_score(predictions, y_test)\n",
        "        rf_gs_results[f'{e}_{d}'] = error\n",
        "        print(f\"{e}, {d} gave\\t\", error)\n",
        "\n",
        "# pprint(rf_gs_results)\n",
        "# So the best model has 100(n_estimators) and None(default max_depth)"
      ],
      "execution_count": 44,
      "outputs": [
        {
          "output_type": "stream",
          "text": [
            "10, None gave\t 0.742910179835149\n",
            "10, 5 gave\t 0.4749076871992276\n",
            "10, 50 gave\t 0.7290727551531044\n",
            "100, None gave\t 0.7595750461258948\n",
            "100, 5 gave\t 0.4656307780824712\n",
            "100, 50 gave\t 0.7581982376498815\n"
          ],
          "name": "stdout"
        }
      ]
    },
    {
      "cell_type": "code",
      "metadata": {
        "colab": {
          "base_uri": "https://localhost:8080/"
        },
        "id": "rBap6h-m-7hT",
        "outputId": "17ada97f-fb79-43bb-8093-0e0b0d1f1d4f"
      },
      "source": [
        "# So it's better to leave the regressor with the default values as it performs better\n",
        "\n",
        "regressor = RandomForestRegressor()\n",
        "regressor.fit(x_train_part, y_train)\n",
        "predictions = regressor.predict(x_test_part)\n",
        "error_part = r2_score(y_test, predictions)\n",
        "\n",
        "regressor = RandomForestRegressor()\n",
        "regressor.fit(x_train_full, y_train)\n",
        "predictions = regressor.predict(x_test_full)\n",
        "error_full = r2_score(y_test, predictions)\n",
        "\n",
        "print(\"Price average:\\t\", y.mean())\n",
        "print(\"Max Price:\\t\", y.max())\n",
        "print(\"Min Price:\\t\", y.min())\n",
        "print(\"Error rate in model with limited features: \", error_part)\n",
        "print(\"Error rate in model with full features:    \", error_full)"
      ],
      "execution_count": 45,
      "outputs": [
        {
          "output_type": "stream",
          "text": [
            "Price average:\t 1075684.079455081\n",
            "Max Price:\t 9000000.0\n",
            "Min Price:\t 85000.0\n",
            "Error rate in model with limited features:  0.8105345199754928\n",
            "Error rate in model with full features:     0.8121828310167876\n"
          ],
          "name": "stdout"
        }
      ]
    },
    {
      "cell_type": "markdown",
      "metadata": {
        "id": "6htVrX_DCdER"
      },
      "source": [
        "### SVR Model"
      ]
    },
    {
      "cell_type": "code",
      "metadata": {
        "colab": {
          "base_uri": "https://localhost:8080/"
        },
        "id": "0EWwSai0Cb2R",
        "outputId": "ff39a43b-880e-42e8-82f1-5e51cc95bdd1"
      },
      "source": [
        "svr_gs_results = {}\n",
        "\n",
        "for k in ('linear', 'rbf'):\n",
        "    for g in ('scale', 'auto'):\n",
        "        for d in (3, 5):\n",
        "            model = SVR(kernel=k, gamma=g, degree=d)\n",
        "            model.fit(x_train_full, y_train)\n",
        "            predictions = model.predict(x_test_full)\n",
        "            error = r2_score(predictions, y_test)\n",
        "            svr_gs_results[f'{k}_{g}_{d}'] = error\n",
        "            print(f\"{k}, {g}, {d} gave\\t\", error)      \n",
        "\n",
        "# pprint(svr_gs_results)\n",
        "# So, the best model has kernel set to 'linear' \n",
        "# Otherparameters do not change the score *much"
      ],
      "execution_count": 46,
      "outputs": [
        {
          "output_type": "stream",
          "text": [
            "linear, scale, 3 gave\t -11.985184244245827\n",
            "linear, scale, 5 gave\t -11.985184244245827\n",
            "linear, auto, 3 gave\t -11.985184244245827\n",
            "linear, auto, 5 gave\t -11.985184244245827\n",
            "rbf, scale, 3 gave\t -37928953.93208191\n",
            "rbf, scale, 5 gave\t -37928953.93208191\n",
            "rbf, auto, 3 gave\t -32438013496675.71\n",
            "rbf, auto, 5 gave\t -32438013496675.71\n"
          ],
          "name": "stdout"
        }
      ]
    },
    {
      "cell_type": "code",
      "metadata": {
        "id": "HLnDIV-zJRWC"
      },
      "source": [
        "# r2 score is already negative, so this model is not a good choice\n",
        "# No point in executing this\n",
        "\n",
        "# regressor = SVR(kernel='linear', gamma='auto', degree=3)\n",
        "# regressor.fit(x_train_part, y_train)\n",
        "# predictions = regressor.predict(x_test_part)\n",
        "# error_part = r2_score(y_test, predictions)\n",
        "\n",
        "# regressor = SVR(kernel='linear', gamma='auto', degree=3)\n",
        "# regressor.fit(x_train_full, y_train)\n",
        "# predictions = regressor.predict(x_test_full)\n",
        "# error_full = r2_score(y_test, predictions)\n",
        "\n",
        "# print(\"Price average:\\t\", y.mean())\n",
        "# print(\"Max Price:\\t\", y.max())\n",
        "# print(\"Min Price:\\t\", y.min())\n",
        "# print(\"Error rate in model with limited features: \", error_part)\n",
        "# print(\"Error rate in model with full features:    \", error_full)"
      ],
      "execution_count": 47,
      "outputs": []
    },
    {
      "cell_type": "code",
      "metadata": {
        "id": "Rv_62cJ-K2fp"
      },
      "source": [
        "# Hence, the best model is RandomForestRegressor with default parameters\n",
        "# It gave a r2 score of ~0.806 for Partial features and ~0.812 for Full Features"
      ],
      "execution_count": 48,
      "outputs": []
    },
    {
      "cell_type": "markdown",
      "metadata": {
        "id": "AlgR2t7BZd15"
      },
      "source": [
        "# Best Model"
      ]
    },
    {
      "cell_type": "code",
      "metadata": {
        "id": "2RO-wVh67Sei"
      },
      "source": [
        "from sklearn.metrics import mean_absolute_error"
      ],
      "execution_count": 49,
      "outputs": []
    },
    {
      "cell_type": "code",
      "metadata": {
        "colab": {
          "base_uri": "https://localhost:8080/"
        },
        "id": "YxyO7xVKZe6e",
        "outputId": "3f1171cb-e6c8-4d95-faf7-c79517581dca"
      },
      "source": [
        "print(\"Price average:\\t\", y.mean())\n",
        "print(\"Max Price:\\t\", y.max())\n",
        "print(\"Min Price:\\t\", y.min())\n",
        "\n",
        "# Searching for a good random state\n",
        "for r in (0, 42, 73, 5677):\n",
        "\n",
        "    regressor = RandomForestRegressor(random_state=r)\n",
        "    regressor.fit(x_train_part, y_train)\n",
        "    predictions = regressor.predict(x_test_part)\n",
        "    error_part = r2_score(y_test, predictions)\n",
        "    error_part_mae = mean_absolute_error(y_test, predictions)\n",
        "\n",
        "    regressor = RandomForestRegressor(random_state=r)\n",
        "    regressor.fit(x_train_full, y_train)\n",
        "    predictions = regressor.predict(x_test_full)\n",
        "    error_full = r2_score(y_test, predictions)\n",
        "    error_full_mae = mean_absolute_error(y_test, predictions)\n",
        "\n",
        "    print(\"\\nSeed:\", r)\n",
        "    print(\"Error rate in model with limited features: \", error_part, error_part_mae)\n",
        "    print(\"Error rate in model with full features:    \", error_full, error_full_mae)"
      ],
      "execution_count": 50,
      "outputs": [
        {
          "output_type": "stream",
          "text": [
            "Price average:\t 1075684.079455081\n",
            "Max Price:\t 9000000.0\n",
            "Min Price:\t 85000.0\n",
            "\n",
            "Seed: 0\n",
            "Error rate in model with limited features:  0.8116941643658091 167389.59846360193\n",
            "Error rate in model with full features:     0.8108355704896341 166369.8157142857\n",
            "\n",
            "Seed: 42\n",
            "Error rate in model with limited features:  0.8086539345073062 168101.7034055684\n",
            "Error rate in model with full features:     0.8146535080959711 166153.78933726068\n",
            "\n",
            "Seed: 73\n",
            "Error rate in model with limited features:  0.8100485713138398 167264.64754871192\n",
            "Error rate in model with full features:     0.8111190479871897 166633.7036597938\n",
            "\n",
            "Seed: 5677\n",
            "Error rate in model with limited features:  0.8087845541851006 167819.96679938986\n",
            "Error rate in model with full features:     0.8112673213958311 166540.934005891\n"
          ],
          "name": "stdout"
        }
      ]
    },
    {
      "cell_type": "code",
      "metadata": {
        "colab": {
          "base_uri": "https://localhost:8080/"
        },
        "id": "nX60287HaEin",
        "outputId": "502b05e2-59d4-46f3-c16a-ae24ea7855a1"
      },
      "source": [
        "# Hence, the best model is RandomForestRegressor\n",
        "top_features, f\"Max r2_score {0.81} for model with default parameters and random_state set to 42\""
      ],
      "execution_count": 51,
      "outputs": [
        {
          "output_type": "execute_result",
          "data": {
            "text/plain": [
              "(['Longtitude',\n",
              "  'Distance',\n",
              "  'Rooms',\n",
              "  'RegionFreq',\n",
              "  'Lattitude',\n",
              "  'BuildingArea',\n",
              "  'Landsize',\n",
              "  'Car',\n",
              "  'Postcode',\n",
              "  'Type',\n",
              "  'SellerCode',\n",
              "  'AddressCode',\n",
              "  'SuburbCode',\n",
              "  'Propertycount',\n",
              "  'Bathroom'],\n",
              " 'Max r2_score 0.81 for model with default parameters and random_state set to 42')"
            ]
          },
          "metadata": {
            "tags": []
          },
          "execution_count": 51
        }
      ]
    },
    {
      "cell_type": "code",
      "metadata": {
        "id": "8xf1l-OmcNvY"
      },
      "source": [
        ""
      ],
      "execution_count": null,
      "outputs": []
    }
  ]
}